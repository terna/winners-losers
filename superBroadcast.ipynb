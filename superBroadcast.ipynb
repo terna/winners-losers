{
 "cells": [
  {
   "cell_type": "code",
   "execution_count": 1,
   "id": "d423efff",
   "metadata": {},
   "outputs": [
    {
     "name": "stdout",
     "output_type": "stream",
     "text": [
      "Overwriting superBroadcast.py\n"
     ]
    }
   ],
   "source": [
    "%%writefile superBroadcast.py\n",
    "\n",
    "from mpi4py import MPI\n",
    "import numpy as np\n",
    "import json\n",
    "\n",
    "comm = MPI.COMM_WORLD\n",
    "rank = comm.Get_rank()\n",
    "rankNum = comm.Get_size()\n",
    "\n",
    "print(\"\\n\"+str(rank)+\"/\"+str(rankNum))\n",
    "\n",
    "if rank==0:        # example [0,[0,((0,0,1),1)],[1,((0,1,0),0)],[2]] with rankNum => 3\n",
    "    mToBcast=[0,[0,((0,0,1),1)],\n",
    "            [1,((0,1,0),0)]]\n",
    "    for k in range(2,rankNum):\n",
    "        mToBcast.append([k])\n",
    "    #print(mBcast)\n",
    "\n",
    "if rank!=0:        # example [1|2,[0],[1],[2]] with rankNum -> 3\n",
    "    mToBcast=[rank]\n",
    "    for k in range(rankNum):\n",
    "        mToBcast.append([k])\n",
    "    #print(mBcast)\n",
    "    \n",
    "countB=45+(rankNum-1)*5\n",
    "str_countB=\"S\"+str(countB)\n",
    "    \n",
    "mToBcast=json.dumps(mToBcast)\n",
    "mToBcast=np.array(mToBcast, dtype=str_countB) #'S80')\n",
    "mToBcast=mToBcast.tobytes()\n",
    "print( \"before bcast\", rank, mToBcast)\n",
    "\n",
    "data=[\"\"]*rankNum\n",
    "for k in range(rankNum):\n",
    "    if rank == k:\n",
    "        data[k] = mToBcast\n",
    "    else:\n",
    "        data[k] = bytearray(countB) #80)\n",
    "for k in range(rankNum):\n",
    "    comm.Bcast(data[k], root=k)\n",
    "\n",
    "for k in range(rankNum):\n",
    "    data[k]=data[k].decode().rstrip('\\x00')\n",
    "\n",
    "for k in range(rankNum):\n",
    "    data[k]=json.loads(data[k])\n",
    "\n",
    "print(\"\\nafter bcast\", rank, data)\n",
    "\n",
    "# collecting for each rank\n",
    "\n",
    "toRequest=[]\n",
    "\n",
    "for anItem in data:\n",
    "        anItem.pop(0)\n",
    "        for aSubitem in anItem:\n",
    "            if len(aSubitem)>1 and aSubitem[0]==rank: \n",
    "                print(aSubitem)\n",
    "                if not tuple(aSubitem[1]) in toRequest:\n",
    "                    toRequest.append(tuple(aSubitem[1]))\n",
    "\n",
    "print(\"rank\",rank,\"requests\",toRequest)    \n"
   ]
  },
  {
   "cell_type": "code",
   "execution_count": 2,
   "id": "f5992187",
   "metadata": {},
   "outputs": [
    {
     "name": "stdout",
     "output_type": "stream",
     "text": [
      "\r\n",
      "0/4\r\n",
      "before bcast 0 b'[0, [0, [[0, 0, 1], 1]], [1, [[0, 1, 0], 0]], [2], [3]]\\x00\\x00\\x00\\x00\\x00'\r\n",
      "\r\n",
      "after bcast 0 [[0, [0, [[0, 0, 1], 1]], [1, [[0, 1, 0], 0]], [2], [3]], [1, [0], [1], [2], [3]], [2, [0], [1], [2], [3]], [3, [0], [1], [2], [3]]]\r\n",
      "[0, [[0, 0, 1], 1]]\r\n",
      "rank 0 requests [([0, 0, 1], 1)]\r\n",
      "\r\n",
      "1/4\r\n",
      "before bcast 1 b'[1, [0], [1], [2], [3]]\\x00\\x00\\x00\\x00\\x00\\x00\\x00\\x00\\x00\\x00\\x00\\x00\\x00\\x00\\x00\\x00\\x00\\x00\\x00\\x00\\x00\\x00\\x00\\x00\\x00\\x00\\x00\\x00\\x00\\x00\\x00\\x00\\x00\\x00\\x00\\x00\\x00'\r\n",
      "\r\n",
      "after bcast 1 [[0, [0, [[0, 0, 1], 1]], [1, [[0, 1, 0], 0]], [2], [3]], [1, [0], [1], [2], [3]], [2, [0], [1], [2], [3]], [3, [0], [1], [2], [3]]]\r\n",
      "[1, [[0, 1, 0], 0]]\r\n",
      "rank 1 requests [([0, 1, 0], 0)]\r\n",
      "\r\n",
      "2/4\r\n",
      "before bcast 2 b'[2, [0], [1], [2], [3]]\\x00\\x00\\x00\\x00\\x00\\x00\\x00\\x00\\x00\\x00\\x00\\x00\\x00\\x00\\x00\\x00\\x00\\x00\\x00\\x00\\x00\\x00\\x00\\x00\\x00\\x00\\x00\\x00\\x00\\x00\\x00\\x00\\x00\\x00\\x00\\x00\\x00'\r\n",
      "\r\n",
      "after bcast 2 [[0, [0, [[0, 0, 1], 1]], [1, [[0, 1, 0], 0]], [2], [3]], [1, [0], [1], [2], [3]], [2, [0], [1], [2], [3]], [3, [0], [1], [2], [3]]]\r\n",
      "rank 2 requests []\r\n",
      "\r\n",
      "3/4\r\n",
      "before bcast 3 b'[3, [0], [1], [2], [3]]\\x00\\x00\\x00\\x00\\x00\\x00\\x00\\x00\\x00\\x00\\x00\\x00\\x00\\x00\\x00\\x00\\x00\\x00\\x00\\x00\\x00\\x00\\x00\\x00\\x00\\x00\\x00\\x00\\x00\\x00\\x00\\x00\\x00\\x00\\x00\\x00\\x00'\r\n",
      "\r\n",
      "after bcast 3 [[0, [0, [[0, 0, 1], 1]], [1, [[0, 1, 0], 0]], [2], [3]], [1, [0], [1], [2], [3]], [2, [0], [1], [2], [3]], [3, [0], [1], [2], [3]]]\r\n",
      "rank 3 requests []\r\n"
     ]
    }
   ],
   "source": [
    "! mpirun -n 4 python3 superBroadcast.py"
   ]
  },
  {
   "cell_type": "code",
   "execution_count": null,
   "id": "3f13abb6",
   "metadata": {},
   "outputs": [],
   "source": []
  }
 ],
 "metadata": {
  "kernelspec": {
   "display_name": "Python 3 (ipykernel)",
   "language": "python",
   "name": "python3"
  },
  "language_info": {
   "codemirror_mode": {
    "name": "ipython",
    "version": 3
   },
   "file_extension": ".py",
   "mimetype": "text/x-python",
   "name": "python",
   "nbconvert_exporter": "python",
   "pygments_lexer": "ipython3",
   "version": "3.9.7"
  }
 },
 "nbformat": 4,
 "nbformat_minor": 5
}
