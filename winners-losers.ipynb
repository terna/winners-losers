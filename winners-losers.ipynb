{
 "cells": [
  {
   "cell_type": "markdown",
   "id": "61150b25",
   "metadata": {},
   "source": [
    "# Winners-Losers\n",
    "\n",
    "\n",
    "## [Repast for Python (Repast4Py) User Guide](https://repast.github.io/repast4py.site/guide/user_guide.html)\n",
    "\n",
    "## [API](https://repast.github.io/repast4py.site/apidoc/index.html)\n",
    "\n",
    "## [GitHub Repast/repast4py](https://github.com/Repast/repast4py)\n",
    "\n",
    "## [MPI for Python](https://mpi4py.readthedocs.io/en/stable/tutorial.html#collective-communication)\n"
   ]
  },
  {
   "cell_type": "raw",
   "id": "2a9495d9",
   "metadata": {},
   "source": [
    "# activate to read notes\n",
    "from IPython.display import IFrame, display\n",
    "filepath = \"ghosts.pdf\"\n",
    "IFrame(filepath, width=800, height=800)"
   ]
  },
  {
   "cell_type": "markdown",
   "id": "80bbce5a",
   "metadata": {},
   "source": [
    "# An idea for the initial example: \n",
    "\n",
    "### something close to the *Chakraborti model* in \"Winners, Losers\" ex. in [Is Inequality Inevitable? (Sc.Am.)](https://www.scientificamerican.com/article/is-inequality-inevitable/). In a closer way, § 2.1 in [Chakraborti, A. (2002). Distributions of money in model markets of economy. International Journal of Modern Physics C, 13(10), 1315-1321](https://arxiv.org/pdf/cond-mat/0205221.pdf). \n",
    "\n",
    "ESC $\\ell$ set or unset row numbers\n",
    "\n",
    "(The script in next cell avoids scrolling outputs)"
   ]
  },
  {
   "cell_type": "code",
   "execution_count": 1,
   "id": "fc6c8e5d",
   "metadata": {},
   "outputs": [
    {
     "data": {
      "application/javascript": [
       "// to avoid scroll in windows\n",
       "IPython.OutputArea.prototype._should_scroll = function(lines) {\n",
       "    return false;\n",
       "}\n"
      ],
      "text/plain": [
       "<IPython.core.display.Javascript object>"
      ]
     },
     "metadata": {},
     "output_type": "display_data"
    }
   ],
   "source": [
    "%%javascript\n",
    "// to avoid scroll in windows\n",
    "IPython.OutputArea.prototype._should_scroll = function(lines) {\n",
    "    return false;\n",
    "}"
   ]
  },
  {
   "cell_type": "markdown",
   "id": "eecbf48d",
   "metadata": {},
   "source": [
    "## -2\n",
    "\n",
    "MPI and context for everywhere"
   ]
  },
  {
   "cell_type": "code",
   "execution_count": 2,
   "id": "daaf6a43",
   "metadata": {},
   "outputs": [
    {
     "name": "stdout",
     "output_type": "stream",
     "text": [
      "Overwriting MPIandContext.py\n"
     ]
    }
   ],
   "source": [
    "%%writefile MPIandContext.py\n",
    "\n",
    "import time\n",
    "from mpi4py import MPI\n",
    "from repast4py import context as ctx\n",
    "import repast4py \n",
    "from repast4py import parameters\n",
    "from repast4py import schedule\n",
    "\n",
    "# simple debug\n",
    "from icecream import ic\n",
    "\n",
    "comm = MPI.COMM_WORLD\n",
    "rank    = comm.Get_rank()\n",
    "rankNum = comm.Get_size() #pt\n",
    "\n",
    "# create the context to hold the agents and manage cross process\n",
    "# synchronization\n",
    "context = ctx.SharedContext(comm)\n",
    "\n",
    "# Initializes the default schedule runner, HERE to create the t() function,\n",
    "# returning the tick value\n",
    "\"\"\"\n",
    "init_schedule_runner(comm)\n",
    "Initializes the default schedule runner, a dynamic schedule of executable \n",
    "events shared and synchronized across processes.\n",
    "Events are added to the scheduled for execution at a particular tick. \n",
    "The first valid tick is 0. Events will be executed in tick order, earliest \n",
    "before latest. Events scheduled for the same tick will be executed in the \n",
    "order in which they were added. If during the execution of a tick, \n",
    "an event is scheduled before the executing tick (i.e., scheduled to occur in \n",
    "the past) then that event is ignored. The scheduled is synchronized across \n",
    "process ranks by determining the global cross-process minimum next scheduled \n",
    "event time, and executing only the events schedule for that time. In this way, \n",
    "no schedule runs ahead of any other.\n",
    "\"\"\"\n",
    "runner = schedule.init_schedule_runner(comm)\n",
    "\n",
    "def t():\n",
    "    return runner.schedule.tick\n",
    "\n",
    "\n",
    "# https://repast.github.io/repast4py.site/apidoc/source/repast4py.parameters.html\n",
    "\"\"\"\n",
    "create_args_parser()\n",
    "Creates an argparse parser with two arguments: \n",
    "1) a yaml format file containing model parameter input, and \n",
    "2) an optional json dictionary string that can override that input.\n",
    "\"\"\"\n",
    "parser = parameters.create_args_parser()\n",
    "\n",
    "args = parser.parse_args()\n",
    "\n",
    "\n",
    "\"\"\"\n",
    "init_params(parameters_file, parameters)\n",
    "Initializes the repast4py.parameters.params dictionary with the model input parameters.\n",
    "\"\"\"\n",
    "params = parameters.init_params(args.parameters_file, args.parameters)\n",
    "\n",
    "\"\"\"\n",
    "repast4py.random.default_rng: numpy.random._generator.Generator = Generator(PCG64) \n",
    "at 0x7F6812E0CD60 repast4py’s default random generator created using init. \n",
    "See the Generator API documentation for more information on the available distributions \n",
    "and sampling functions.\n",
    "\n",
    "Type\n",
    "numpy.random.Generator\n",
    "\n",
    "repast4py.random.init(rng_seed=None)\n",
    "Initializes the default random number generator using the specified seed.\n",
    "\n",
    "Parameters\n",
    "rng_seed (int) – the random number seed. Defaults to None in which case, the current \n",
    "time as returned by time.time() is used as the seed.\n",
    "\"\"\"\n",
    "\n",
    "repast4py.random.init(rng_seed=params['myRandom.seed'][rank])\n",
    "rng = repast4py.random.default_rng \n",
    "\n",
    "\n",
    "\n",
    "#timer T()\n",
    "startTime=-1\n",
    "def T():\n",
    "    global startTime\n",
    "    if startTime < 0:\n",
    "        startTime=time.time()\n",
    "    return time.time() - startTime\n",
    "\n",
    "\n",
    "\n",
    "    "
   ]
  },
  {
   "cell_type": "markdown",
   "id": "5efbc8c8",
   "metadata": {},
   "source": [
    "## -1\n",
    "\n",
    "memory allocations to manage agents"
   ]
  },
  {
   "cell_type": "code",
   "execution_count": 3,
   "id": "0da76cbe",
   "metadata": {},
   "outputs": [
    {
     "name": "stdout",
     "output_type": "stream",
     "text": [
      "Overwriting memAlloc.py\n"
     ]
    }
   ],
   "source": [
    "%%writefile memAlloc.py\n",
    "\n",
    "agent_cache={} # dict with uid as keys and agents' tuples as values, \n",
    "               # used by restore_agent (def in classes.py) to avoid rebuild agents\n",
    "    \n",
    "ghostsToRequest=[] # list of tuples containing for each ghost the uid and its current rank;\n",
    "                   # used by the requestGhosts(self) function of the model\n"
   ]
  },
  {
   "cell_type": "markdown",
   "id": "404974ee",
   "metadata": {},
   "source": [
    "## 0\n",
    "\n",
    "program starter"
   ]
  },
  {
   "cell_type": "code",
   "execution_count": 4,
   "id": "b6675d66",
   "metadata": {},
   "outputs": [
    {
     "name": "stdout",
     "output_type": "stream",
     "text": [
      "Overwriting starter.py\n"
     ]
    }
   ],
   "source": [
    "%%writefile starter.py\n",
    "\n",
    "from runMod import *\n",
    "\n",
    "\n",
    "\n",
    "run(params)"
   ]
  },
  {
   "cell_type": "markdown",
   "id": "7b4ee2c8",
   "metadata": {},
   "source": [
    "## 1 \n",
    "\n",
    "run the model"
   ]
  },
  {
   "cell_type": "code",
   "execution_count": 5,
   "id": "42356c89",
   "metadata": {},
   "outputs": [
    {
     "name": "stdout",
     "output_type": "stream",
     "text": [
      "Overwriting runMod.py\n"
     ]
    }
   ],
   "source": [
    "%%writefile runMod.py\n",
    "\n",
    "from typing import Dict\n",
    "from model import *\n",
    "\n",
    "def run(params: Dict):\n",
    "    \n",
    "    model = Model(params) #Model(MPI.COMM_WORLD, params)\n",
    "    model.start()"
   ]
  },
  {
   "cell_type": "markdown",
   "id": "2a07a342",
   "metadata": {},
   "source": [
    "## 2\n",
    "\n",
    "classes (agent definitions + restore_agent function)"
   ]
  },
  {
   "cell_type": "code",
   "execution_count": 6,
   "id": "a3dbd4a5",
   "metadata": {
    "scrolled": true
   },
   "outputs": [
    {
     "name": "stdout",
     "output_type": "stream",
     "text": [
      "Overwriting classes.py\n"
     ]
    }
   ],
   "source": [
    "%%writefile classes.py\n",
    "\n",
    "from repast4py import core\n",
    "from typing import Tuple, List\n",
    "\n",
    "from memAlloc import *\n",
    "from MPIandContext import *\n",
    "\n",
    "\n",
    "class WinnerLoser(core.Agent):\n",
    "\n",
    "    TYPE = 0\n",
    "    \n",
    "    def __init__(self, local_id: int, rank: int, wallet: float):\n",
    "        super().__init__(id=local_id, type=WinnerLoser.TYPE, rank=rank)\n",
    "\n",
    "        self.myWallet = wallet\n",
    "\n",
    "        self.counterpartRank = -1\n",
    "        self.counterpartLocalId = -1\n",
    "        \n",
    "        self.havePresenceAsSelfOrGhost = [False] * rankNum\n",
    "        self.havePresenceAsSelfOrGhost[rank] = True\n",
    "        \n",
    "    def choosingRankAndCreatingItsGhostIfAny(self) -> List:\n",
    "        self.counterpartRank = int(rng.integers(0,rankNum))\n",
    "        if not self.havePresenceAsSelfOrGhost[self.counterpartRank]:\n",
    "            self.havePresenceAsSelfOrGhost[self.counterpartRank] = True\n",
    "            return [self.counterpartRank, ((self.uid[0], self.TYPE, rank), rank)]\n",
    "        \n",
    "    def operatingInItsRank(self):\n",
    "        if self.counterpartRank == rank:\n",
    "            tmpListOfAgentsInTheSameRank = list(context.agents(agent_type=0))\n",
    "            ii=0\n",
    "            for i in range(len(tmpListOfAgentsInTheSameRank)):\n",
    "                if self.uid == tmpListOfAgentsInTheSameRank[i].uid: ii=i\n",
    "            tmpListOfAgentsInTheSameRank.pop(ii)\n",
    "            counterpart=tmpListOfAgentsInTheSameRank[int(rng.integers(0,len(tmpListOfAgentsInTheSameRank)))]\n",
    "            commonWallet = self.myWallet + counterpart.myWallet\n",
    "            share=float(rng.random())\n",
    "            self.myWallet = commonWallet*share\n",
    "            counterpart.myWallet = commonWallet*(1-share)\n",
    "            #print(\"rank\", rank, \"tick\", t(), \"uid\", self.uid,\"myWallet\",\\\n",
    "            #      self.myWallet, \"counterpart\", counterpart.uid, \"counterpart wallet\", counterpart.myWallet, flush = True)\n",
    "            \n",
    "        \n",
    "                              \n",
    "\n",
    "                    \n",
    "    # TMP\n",
    "    def reactingAsGhost(self):\n",
    "        #print(\"*** in rank\",rank,\"tick\",t(),\"ghost\",self.uid, self.myWallet, flush=True)\n",
    "        pass\n",
    "\n",
    "\n",
    "    def save(self) -> Tuple: # mandatory\n",
    "        \"\"\"\n",
    "        Saves the state of the WinnerLoser as a Tuple.\n",
    "\n",
    "        Returns:\n",
    "            The saved state of this WinnerLoser.\n",
    "        \"\"\"\n",
    "        return (self.uid, self.myWallet)\n",
    "\n",
    "    def update(self, wallet: float): # mandatory\n",
    "        \"\"\"\n",
    "        Updates the state of this agent when it is a ghost\n",
    "        agent on some rank other than its local one.\n",
    "        \"\"\"\n",
    "        self.myWallet=wallet\n",
    "\n",
    "      \n",
    "            \n",
    "def restore_agent(agent_data: Tuple):\n",
    "\n",
    "    uid=agent_data[0]\n",
    "\n",
    "    if uid[1] == WinnerLoser.TYPE:\n",
    "    \n",
    "        if uid in agent_cache:   # look for agent_cache in model.py\n",
    "            tmp = agent_cache[uid] # found\n",
    "            tmp.myWallet = agent_data[1] #restore data\n",
    "\n",
    "        else: #creation of an instance of the class with its data\n",
    "            tmp = WinnerLoser(uid[0], uid[2],agent_data[1])                \n",
    "            agent_cache[uid] = tmp\n",
    "\n",
    "        return tmp\n",
    "\n",
    "    "
   ]
  },
  {
   "cell_type": "markdown",
   "id": "6186a394",
   "metadata": {},
   "source": [
    "## 2b\n",
    "\n",
    "broadcasting function"
   ]
  },
  {
   "cell_type": "code",
   "execution_count": 7,
   "id": "0acdbbd3",
   "metadata": {},
   "outputs": [
    {
     "name": "stdout",
     "output_type": "stream",
     "text": [
      "Overwriting broadcastF.py\n"
     ]
    }
   ],
   "source": [
    "%%writefile broadcastF.py\n",
    "\n",
    "import json\n",
    "import numpy as np\n",
    "\n",
    "\n",
    "\n",
    "def countDigits(n):\n",
    "    count = 0\n",
    "    while(n>0):\n",
    "        count+=1\n",
    "        n=n//10\n",
    "    return count\n",
    "\n",
    "def broadcastGhostRequests(mToBcast, params, rankNum, rank, comm, ghostsToRequest):\n",
    "    \n",
    "    n=params['WinnerLoser.count'] // rankNum\n",
    "    countB = 10+n*(22+countDigits(n))\n",
    "    str_countB=\"S\"+str(countB)\n",
    "            \n",
    "    mToBcast=json.dumps(mToBcast)\n",
    "    mToBcast=np.array(mToBcast, dtype=str_countB) \n",
    "    mToBcast=mToBcast.tobytes()    \n",
    "        \n",
    "    data=[\"\"]*rankNum\n",
    "    for k in range(rankNum):\n",
    "        if rank == k:\n",
    "            data[k] =mToBcast\n",
    "        else:\n",
    "            data[k] = bytearray(countB) \n",
    "    for k in range(rankNum):\n",
    "        comm.Bcast(data[k], root=k)\n",
    "\n",
    "    for k in range(rankNum):\n",
    "        data[k]=data[k].decode().rstrip('\\x00')\n",
    "\n",
    "    for k in range(rankNum):\n",
    "        data[k]=json.loads(data[k])\n",
    "            \n",
    "\n",
    "    for anItem in data:\n",
    "        anItem.pop(0)\n",
    "        for aSubitem in anItem: \n",
    "            if len(aSubitem)>1 and aSubitem[0]==rank: \n",
    "                aaSubitem = aSubitem[1][0]\n",
    "                aaSubitem = tuple(aaSubitem)\n",
    "                aSubitem=(aSubitem[0], (aaSubitem, aSubitem[1][1]))\n",
    "                    \n",
    "                if not tuple(aSubitem[1]) in ghostsToRequest:\n",
    "                    ghostsToRequest.append(tuple(aSubitem[1]))\n",
    "                    "
   ]
  },
  {
   "cell_type": "markdown",
   "id": "eea35022",
   "metadata": {},
   "source": [
    "## 3\n",
    "\n",
    "the model"
   ]
  },
  {
   "cell_type": "code",
   "execution_count": 8,
   "id": "3ef35b50",
   "metadata": {},
   "outputs": [
    {
     "name": "stdout",
     "output_type": "stream",
     "text": [
      "Overwriting model.py\n"
     ]
    }
   ],
   "source": [
    "%%writefile model.py\n",
    "\n",
    "#from mpi4py import MPI\n",
    "from MPIandContext import *\n",
    "from typing import Dict\n",
    "#from repast4py import schedule\n",
    "#from repast4py import context as ctx\n",
    "import repast4py\n",
    "import json\n",
    "import csv\n",
    "import numpy as np\n",
    "from classes import *\n",
    "from memAlloc import *\n",
    "from broadcastF import *\n",
    "\n",
    "\n",
    "\n",
    "\n",
    "class Model:\n",
    "    \"\"\"\n",
    "    The Model class encapsulates the simulation, and is\n",
    "    responsible for initialization (scheduling events, creating agents,\n",
    "    and the grid the agents inhabit IF ANY), and the overall iterating\n",
    "    behavior of the model.\n",
    "\n",
    "    Args:\n",
    "        params: the simulation input parameters\n",
    "    \"\"\"\n",
    "    \n",
    "    global params\n",
    "    PARAMS = params\n",
    "    \n",
    "    def __init__(self, params: Dict):\n",
    "        \n",
    "        self.mToBcast = []\n",
    "        \n",
    "        # the context to hold the agents and manage cross process synchronization\n",
    "        # is created in step -2\n",
    "\n",
    "        \n",
    "        # the runner, implementing the schedule, is created in step -2\n",
    "        # https://repast.github.io/repast4py.site/apidoc/source/repast4py.schedule.html\n",
    "        \n",
    "        \"\"\"\n",
    "        schedule_repeating_event(at, interval, evt)\n",
    "        Schedules the specified event to execute at the specified tick, and repeat at \n",
    "        the specified interval.\n",
    "\n",
    "        Parameters\n",
    "        at (float) – the time of the event.\n",
    "        interval (float) – the interval at which to repeat event execution.\n",
    "        evt (Callable) – the Callable to execute when the event occurs.\n",
    "\n",
    "            A callable is anything that can be called.\n",
    "            The built-in callable (PyCallable_Check in objects.c) checks if the argument \n",
    "            is either:\n",
    "                an instance of a class with a __call__ method or\n",
    "                is of a type that has a non null tp_call (c struct) member which \n",
    "                indicates callability otherwise (such as in functions, methods etc.)\n",
    "        \"\"\"\n",
    "        runner.schedule_repeating_event(0, 1, self.agentsChoosingCounterpart)\n",
    "        runner.schedule_repeating_event(0.1, 1, self.agentsSendingTheirGhosts)      \n",
    "        runner.schedule_repeating_event(0.2, 1, self.agentsExchangingInTheirRanks)\n",
    "        runner.schedule_repeating_event(0.3, 1, self.sync)\n",
    "        runner.schedule_repeating_event(0.4, 1, self.checkingGhostsWallets)\n",
    "        \"\"\"\n",
    "        schedule_stop(at)\n",
    "        Schedules the execution of this schedule to stop at the specified tick.\n",
    "\n",
    "        Parameters\n",
    "        at (float) – the tick at which the schedule will stop.\n",
    "        \"\"\"\n",
    "        runner.schedule_stop(params['stop.at'])\n",
    "        \n",
    "        runner.schedule_end_event(self.finish)\n",
    "        \n",
    "\n",
    "        \n",
    "        # create agents\n",
    "        # winnerLoser agents\n",
    "        \n",
    "        for i in range(params['WinnerLoser.count'] // rankNum): \n",
    "                                                #to subdivide the total #pt\n",
    "            # create and add the agent to the context\n",
    "            aWallet=1 #10 * rng.random()\n",
    "            aWinnerLoser = WinnerLoser(i,rank,aWallet)\n",
    "            context.add(aWinnerLoser)\n",
    "            \n",
    "\n",
    "        \n",
    "    def agentsChoosingCounterpart(self):        \n",
    "        \n",
    "        del self.mToBcast \n",
    "        self.mToBcast = [rank] \n",
    "        \n",
    "        \"\"\"\n",
    "        agents(agent_type=None, count=None, shuffle=False)\n",
    "        Gets the agents in this SharedContext, optionally of the specified type, count \n",
    "        or shuffled.\n",
    "\n",
    "        Parameters\n",
    "        agent_type (int) – the type id of the agent, defaults to None.\n",
    "        count (int) – the number of agents to return, defaults to None, meaning return \n",
    "        all the agents.shuffle (bool) – whether or not the iteration order is shuffled.\n",
    "        If true, the order is shuffled. If false, the iteration order is the order of \n",
    "        insertion.\n",
    "\n",
    "        Returns\n",
    "        An iterable over all the agents in the context. If the agent_type is \n",
    "        not None then an iterable over agents of that type will be returned.\n",
    "\n",
    "        Return type\n",
    "        iterable \n",
    "        pt addendum: it is a generator, not a list\n",
    "        \"\"\"\n",
    "        \n",
    "        for aWinnerLoser in context.agents(agent_type=0):\n",
    "            aRequest = aWinnerLoser.choosingRankAndCreatingItsGhostIfAny()\n",
    "            if aRequest != None: self.mToBcast.append(aRequest)\n",
    "    \n",
    "        #ic(t(),self.mToBcast);\n",
    "        \n",
    "        \n",
    "        \n",
    "    def agentsSendingTheirGhosts(self):\n",
    "        broadcastGhostRequests(self.mToBcast, Model.PARAMS, rankNum, rank, comm, ghostsToRequest)  #broadcasting\n",
    "        \n",
    "        \"\"\"\n",
    "        https://repast.github.io/repast4py.site/apidoc/source/repast4py.context.html\n",
    "        request_agents(requested_agents, create_agent)\n",
    "        Requests agents from other ranks to be copied to this rank as ghosts.\n",
    "\n",
    "        !!!! This is a collective operation and all ranks must call it, regardless \n",
    "        of whether agents are being requested by that rank. The requested agents \n",
    "        will be automatically added as ghosts to this rank.\n",
    "\n",
    "        Parameters\n",
    "        requested_agents (List) – A list of tuples specifying requested \n",
    "        agents and the rank to request from. Each tuple must contain the agents \n",
    "        unique id tuple and the rank, for example ((id, type, rank), requested_rank).\n",
    "\n",
    "        create_agent (Callable) – a Callable that can take the result of an agent \n",
    "        save() and return an agent.\n",
    "\n",
    "        Returns\n",
    "        ***The list of requested agents.\n",
    "\n",
    "        Return type\n",
    "        List[_core.Agent]\n",
    "        \"\"\"\n",
    "        context.request_agents(ghostsToRequest,restore_agent)\n",
    "        #ic(t(),rank,ghostsToRequest,agent_cache);\n",
    "\n",
    "        \n",
    "    def agentsExchangingInTheirRanks(self):\n",
    "        for aWinnerLoser in context.agents(agent_type=0):\n",
    "            aWinnerLoser.operatingInItsRank()\n",
    "  \n",
    "           \n",
    "    #TMP\n",
    "    def checkingGhostsWallets(self):\n",
    "        if len(agent_cache)>0:\n",
    "            currentGhostList=list(agent_cache.keys())\n",
    "            for i in range(len(agent_cache)):\n",
    "                agent_cache[currentGhostList[i]].reactingAsGhost()\n",
    "        \n",
    "        \n",
    "    def sync(self):\n",
    "        \"\"\"\n",
    "        synchronize(restore_agent, sync_ghosts=True)\n",
    "        Synchronizes the model state across processes by moving agents, \n",
    "        filling projection buffers with ghosts, updating ghosted state and so forth.\n",
    "\n",
    "        Parameters\n",
    "        restore_agent (Callable) – a callable that takes agent state data and returns \n",
    "        an agent instance from that data. The data is a tuple whose first element \n",
    "        is the agent’s unique id tuple, and the second element is the agent’s state, \n",
    "        as returned by that agent’s type’s save() method.\n",
    "\n",
    "        sync_ghosts (bool) – if True, the ghosts in any SharedProjections and \n",
    "        value layers associated with this SharedContext are also synchronized. \n",
    "        Defaults to True.\n",
    "        \"\"\"\n",
    "        context.synchronize(restore_agent)\n",
    "        #ic(t(),rank,\"synchronisation made\");\n",
    "    \n",
    "                        \n",
    "    def finish(self):\n",
    "        allTheWallets = []\n",
    "        for aWinnerLoser in context.agents(agent_type=0):\n",
    "            allTheWallets.append(aWinnerLoser.myWallet)\n",
    "        \n",
    "        print(\"\\n\\nBye bye by rank\",rank,\"at tick\",t(),\"clock\",T(),flush=True)\n",
    "        #print(allTheWallets, flush = True)\n",
    "        \n",
    "        with open('wallets'+str(rank)+'.csv', 'w', newline='') as file:\n",
    "            writer = csv.writer(file)\n",
    "            writer.writerow(allTheWallets)\n",
    "                \n",
    "        \n",
    "    def start(self):\n",
    "        runner.execute()\n",
    "        "
   ]
  },
  {
   "cell_type": "markdown",
   "id": "686ef2b5",
   "metadata": {},
   "source": [
    "# Execution"
   ]
  },
  {
   "cell_type": "code",
   "execution_count": 9,
   "id": "368559de",
   "metadata": {
    "scrolled": false
   },
   "outputs": [
    {
     "name": "stdout",
     "output_type": "stream",
     "text": [
      "\r\n",
      "\r\n",
      "Bye bye by rank 1 at tick 50 clock 1.1920928955078125e-06\r\n",
      "\r\n",
      "\r\n",
      "Bye bye by rank 0 at tick 50 clock 4.76837158203125e-07\r\n",
      "\r\n",
      "\r\n",
      "Bye bye by rank 2 at tick 50 clock 7.152557373046875e-07\r\n"
     ]
    }
   ],
   "source": [
    "# R U N\n",
    "# %sx mpirun -n 1 python3 starter.py winners-losers.yaml\n",
    "! mpirun -n 3 python3 starter.py winners-losers.yaml\n",
    "#! /usr/bin/mpirun -n 3 python3 starter.py winners-losers.yaml\n",
    "# %sx mpirun -n 1 python3 starter.py winners-losers.yaml '{\"a\": 123,\"random.seed\": 1000}'"
   ]
  },
  {
   "cell_type": "code",
   "execution_count": 18,
   "id": "de684dd3",
   "metadata": {},
   "outputs": [
    {
     "name": "stdout",
     "output_type": "stream",
     "text": [
      "['0.5416630119777205', '0.22619328888113638', '1.6782568234303663', '1.2812159267219267', '0.6487810120380187', '0.490261042475107', '1.1325812565153066', '1.017178089382985', '0.5566404272974871', '2.2149145997782673', '0.7641852885851222', '0.26901178141293214', '0.4014392869121316', '1.8394946638641982', '0.5696745647662254', '0.392307648994919', '2.072992517662693', '1.909689485620233', '0.07084922380567936', '4.8098244241801185', '0.5919990318697322', '0.5157510707832778', '0.16039626340591223', '0.8041770663366778', '0.68388945581673', '0.16797970154925762', '1.3133022177066804', '1.1322572711057106', '0.3739306546001297', '0.9271125923916869', '0.05352282317102407', '1.2203064463265803', '0.0065794825983757485', '1.2544868317851074', '1.3739222078310886', '1.3790103972770544', '2.3503859848457784', '0.08518726133621886', '0.7853457981668313', '0.6279483823357938', '1.3039105416572412', '0.06498123674545742', '0.270430348129427', '0.44507894900981765', '0.6608192158739258', '1.7091582516689572', '1.4234616773370747', '0.6805164308078862', '3.1486285347630756', '1.0285776111101346', '0.6120629349905744', '0.20759345438444043', '1.8220644412690166', '0.990593847887864', '1.8308074106553687', '0.23702376796156915', '3.033194569344882', '0.38716862682768904', '0.07877255534684767', '0.2427907813671571', '0.08000646917386396', '0.010404485362807164', '1.5815652704775227', '0.7893524860574058', '1.2487620636906318', '0.757491294519434', '1.0999184309511858', '0.05698387680803519', '0.7420055314163181', '1.6645521034933703', '0.31527148896088375', '0.42399770582287005', '0.07129838942156383', '0.2106550356884298', '0.24412628554769877', '0.7555422853860021', '0.9420177271665128', '0.2110707045473682', '0.027148705405530528', '1.110709080822574', '0.35406030526237364', '0.23586760814306712', '0.14724697658200434', '0.8827896801034021', '0.4921973217627818', '1.5275879789147175', '1.961409599417403', '0.8519197245930062', '3.143659246324689', '0.4401981422537464', '0.005819886653497208', '0.6116385528580544', '0.09159969456288679', '1.0949355062700283', '0.045200313261762104', '0.10323380756021326', '0.16502741941982305', '0.18718308167407838', '1.7936599778005005', '1.1720707571128606', '0.27516797542412', '1.5877943937724261', '0.9887706095190933', '0.3422302519246252', '1.0723725765106205', '0.9772777369815352', '2.5629416662929745', '6.992063133917005', '0.7884888418380483', '2.7874879796902206', '0.2880931461368337', '0.5591520650227118', '0.12993299102571004', '0.5359187936946981', '0.07158129055713565', '0.5972915467662305', '0.13233097445029546', '0.354552020299904', '0.2522423251371672', '0.41340406809412017', '2.106016011184889', '0.3643514068541952', '0.7044823035225396', '0.1581842484909013', '2.450635859200269', '0.4876427589811092', '0.7334045242059064', '2.047087981212066', '1.5455984703059742', '0.12919158289110638', '0.8939516436828979', '0.14743336451097303', '0.47183316939075576', '0.28692333616538657', '0.7487868029482132', '1.010406475903245', '0.039338249123821944', '1.0686893383257257', '1.1974046186939873', '1.331539904877296', '1.2245144064510294', '0.755134751960534', '0.02549259225536225', '3.8564013415443004', '2.3888573484219346', '1.800295802959108', '2.468558677570692', '0.44468094078835413', '0.3052380434261916', '1.9835879382945176', '3.5399320123809455', '0.04918400182639116', '2.5677516261311086', '0.2730372013136187', '0.5721769402892901', '0.22961523225059344', '0.20319586070613777', '0.6370396348287849', '0.35700879395323626', '0.7146553374514703', '1.5264565260336926', '0.13988635439897454', '0.010754399430512923', '1.160904847725923', '1.3430143777055759', '0.21870346300832066', '0.45598888625706546', '0.8743821695216516', '0.815941305589171', '0.0974021008058481', '0.15374754860475034', '0.21560351712060746', '0.08193420328160526', '1.9737194492521035', '0.38215155090835884', '0.8608807279909094', '0.13114984351273345', '0.21820659737729467', '1.184678757523758', '2.4317704044272936', '0.6634080252207264', '0.8329352521796359', '1.1733722979405963', '0.64178711071579', '1.9341441547977674', '0.4365175596017394', '0.745779475307516', '0.35665423938932067', '1.05916600512666', '1.2812267353820204', '0.2148856835022569', '0.288128729764416', '0.23534316813502212', '2.2192778887483744', '6.21530499500554', '0.09306077377676411', '0.7787278966925983', '0.044238981487176025', '0.5371903526235126', '1.130343010056894', '0.944114069126284', '1.0867220160693016', '1.2716623931420243', '1.5064633098475948', '1.4031579572904647', '0.5568936012527447', '0.38252313389061277', '1.4180015738371', '0.05298467241742806', '0.8272267543591406', '0.012189609600177764', '0.6542486954032156', '1.0381615476445416', '3.6586375960669817', '0.33120546234364323', '0.4368134345774648', '0.38584799828929556', '1.3205622126842311', '0.7276130170748369', '0.16045886659349723', '0.005149808957743197', '0.08877409356740758', '2.6724929804031365', '1.2371604544579298', '0.5910605949398267', '0.09800015253950813', '1.133744990350576', '1.364053887709812', '0.36981029419984085', '1.444682774332989', '0.3796784295413994', '0.20579911225637296', '0.1579667786294478', '2.7357016150697087', '0.7290574440566956', '0.07812683657109812', '0.15464772873684', '1.0928048359443472', '0.5519329105430509', '1.7065039600613472', '0.8009494176371976', '0.702891679005581', '1.8959755946239452', '2.1967775342528446', '0.14530647174555872', '0.7770283204399226', '0.6734470465843606', '0.9933194544973182', '0.5969064034260076', '0.17641916565822569', '0.1758133386879713', '0.1838887673510425', '0.26537269697754073', '0.931441930643381', '0.058811925670895424', '1.0786603772488097', '0.3889798563693723', '0.225364897474215', '0.9500930814538299', '1.0762649206469037', '1.6324694816934964', '0.017861886126096238', '1.202132511994512', '1.6745075322208791', '0.13779567979768365', '4.360085732949265', '1.905477040104751', '0.520998730706805', '0.009754976440370886', '1.2749498117169558', '0.07486988313016868', '0.2863685166659865', '0.23288564695841366', '2.536753546191642', '3.621686124870082', '6.259201222344863', '0.8644887292644469', '0.07888709994747516', '1.0182881196914289', '2.5221576461974076', '1.0770539357087996', '0.707794897301841', '0.6255948678138733', '1.3254718086482968', '1.9052314264917731', '0.754050849599672', '0.13118356729413733', '1.104338053059476', '0.9412601217239078', '0.4470829288781692', '1.6001274040916997', '0.056123824160734775', '0.23619253931170087', '1.2604175655386052', '0.047088216621144464', '0.2751523455618996', '2.3561814314457976', '1.19095856772579', '0.4394584506219376', '1.0142638124148218', '2.6625499057884645', '0.25947851722341064', '0.06625074951098138', '0.328010483190923', '1.376356138122031', '0.360174040980016', '3.225788130621021', '0.29535548102725107', '1.5431759857109102', '0.5832937649922322', '1.128401200017763', '1.9542751160822391', '0.24672921496810976', '0.17106677557878316', '1.606358382687739', '0.9708198149387203', '0.3792406949754783', '0.14233315998478943', '0.8336687960699896', '0.37594432871467914', '0.3787652111453888', '1.2649370193979175', '2.865675505189079', '3.158070407873076', '0.0004558944599402414', '0.16258628961374946', '0.5182121408543908', '0.47405194733731193', '0.5785775820498122', '3.7362888952542055', '0.4328344155185983', '0.5125374957767532', '2.781179582776872', '0.12321977108960772', '1.7750756766054174', '1.9594111245287678', '2.2317017456739294', '0.23762700958093919', '2.848895995306936', '1.6258148683440234', '0.11157825423450397', '0.5204373574075689', '0.9941425490605651', '1.9900337993152306', '0.25444094228721476', '0.19028522970286896', '1.032162207884125', '0.85644170510425', '2.569407570715044', '0.759385529053201', '0.9248735345833309', '0.7713673042124153', '0.8203070834700349', '0.21333534863315892', '0.27069268581324274', '1.3415098050325005', '0.6235577995629001', '0.46922548837972117', '2.0764691018673855', '0.9200605112323936', '1.7161650638175565', '1.0707236987903845', '0.5554363527988639', '4.864384846584471', '2.216027943248567', '0.44523198274939535', '1.1108063701918605', '2.5444666934719917', '0.09298384959421387', '0.47711551652471695', '2.841446038610827', '1.2601858174856124', '0.43814137900909844', '1.0471380314004857', '0.4672096809141808', '0.7877911734571323', '0.0729052470863925', '4.349614498398677', '4.5025008270821365', '1.2062509348298518', '0.4226003851780799', '1.3008851655809126', '0.16171082236028864', '0.15483532540618347', '0.20481139057155454', '0.21600680432521738', '0.8184846768357964', '0.5891593737924233', '0.4902450667126501', '0.014229309572959047', '0.5155828725191179', '0.6559551863578515', '2.6465040404870392', '1.7361332299454517', '0.3575568670304093', '1.6805091736399909', '0.43379144604908226', '5.914597535543197', '2.1494369174208834', '0.20586105650079545', '1.19230542709175', '0.15686091648151318', '0.5541336519119093', '0.8166512151768565', '0.5706906600965094', '0.745485939159064', '0.30880314587155117', '2.074240724736645', '1.743927079085449', '0.6700481443906441', '0.08889022964114406', '0.0876944089204014', '0.1636364776208392', '0.549176885762902', '0.0485934794524367', '0.9809807715547013', '0.016428890921957172', '0.6353100054795973', '0.022459659039128006', '4.774130202734896', '0.20925538219622408', '0.44419978501371643', '4.737505833733435', '1.0856618931155373', '0.4278407388991706', '0.09231339232770863', '0.30804995903187166', '0.9272289981716068', '0.7180936638208122', '0.6843203874590416', '1.0361808432540285', '0.6818236436741619', '0.5432224470736311', '0.42079125608310175', '0.0885535572545459', '0.7908780918419456', '0.4790086360454008', '0.804002563115106', '2.769024211781251', '0.27351254164974786', '0.047193498979287346', '1.7357074391337994', '1.7207465390067662', '2.8611488937424947', '1.2440200074168384', '0.7575831328348985', '0.5479785481477877', '0.3143234459398498', '0.0866925073016921', '1.7198557446021783', '0.17195568528193217', '2.5117762724939774', '1.4833753877894027', '0.5143808704617227', '2.653453879957957', '0.49184032032750397', '0.9404120510323009', '0.8446387449662704', '1.958472096916255', '0.7539989829404389', '1.677378239885529', '0.734501201329742', '0.9252871967977835', '2.6929659508054993', '0.06391720093455866', '0.42427128478785686', '4.748499923642076', '0.630942689937123', '2.6352943486307012', '0.954653005039453', '0.4128672929188066', '0.6329481417895463', '0.43001982972436303', '0.4878065909159391', '0.39238251886536357', '0.7846647629295173', '0.616385777082267', '2.2753752723270533', '0.27770399745768304', '0.1956247990242351', '0.35152139150395545', '0.771542112096767', '1.2442172249517525', '2.4728927522619766', '1.9419134611564972', '1.0626038082556912', '0.16846748010900675', '0.43954304019498897', '3.004200422395374', '0.39826618432540395', '2.633170561863084', '4.138552843879108', '1.7666582669354534', '0.5213460622343827', '2.0982755418896097', '2.786052490701834', '1.043982680438381', '0.9520784915152395', '1.474937375892607', '0.6562492394802799', '0.49620611083093824', '0.12032435908066372', '0.14455424566886618', '1.4973504166324896', '0.04290826270709159', '0.8487779575715433', '1.1418835781058394', '1.339392514022498', '0.2459305425101652', '0.9953299447614616', '0.10630535055629378', '1.2364372584222045', '0.6448061990822005', '0.7563810951971535', '1.2752197957892413', '1.3750115129609854', '0.6120170862919213', '0.6096668598830777', '0.017417634833293772', '0.49892045097753523', '3.8573073458622154', '0.12966460318525014', '2.1905408067545022', '2.4045031178130754', '0.18552862641398582', '0.04451009483851609', '1.0984689395147018', '4.080356310187024', '0.09450256086024571', '2.0948327904642525', '0.3636386504628048', '0.19014449978861384', '1.449444288516189', '1.2101332052726488', '0.826194871917783', '1.6377511475177915', '0.013487533440142705', '1.8204701148341755', '0.27790677608224873', '3.286556163474609', '1.7728801983221567', '0.5576823121158352', '0.6598292036571907', '0.14479529064498595', '0.6573812896108825', '2.1281774143532686', '0.7128005589879706', '0.3396585077957432', '0.39204928763045277', '0.48699728275578513', '0.6735503198871925', '0.13507570974068822', '0.3690408877164796', '0.1812636750402557', '0.08252793476542969', '0.6741112503178072', '0.20787487694628026', '0.18015475842236917', '0.2273849082561932', '1.2160125091775138', '0.4129789305508531', '0.7207599205334903', '0.16096548180369363', '0.2234658032689183', '0.7683535337859437', '0.9931575600547794', '1.514921696561533', '0.3652579363702358', '0.9305945890569705', '1.1517428190905126', '4.072727791719876', '1.6273563123316777', '1.1210039766441315', '0.12460306674186154', '0.7529067231680031', '0.6350659393391938', '0.7052909576679215', '1.1069141035771968', '0.14615368508273252', '0.4143488953452139', '0.22427923552907508', '0.35794383003590263', '0.0704974381850617', '1.2073466388592897', '0.6478631711189219', '0.5410127358200981', '0.38885406684817436', '1.3313785544997376', '0.45413253882870136', '2.0395225822367973', '0.028801255299590548', '2.1647369719174256', '0.45173204399927164', '0.41729831183968635', '0.015782601682003763', '3.270847619436816', '0.5340301949757535', '0.0589182237853857', '0.8915632651814843', '0.19095978101956498', '1.1016613572194915', '0.004593149128040147', '3.7701866008814', '0.10234816494546196', '1.3522299521574153', '0.45632095010742024', '0.7226317131977525', '0.4163426673199628', '3.382022859150712', '0.3206669008536024', '0.2296721707356105', '1.6957292469699874', '0.2539429160062227', '0.2982957557989036', '3.9097966189884015', '2.061201820215388', '0.9438891893635657', '0.38642817029468085', '2.1636091349285422', '5.212338857867592', '0.48240491708334027', '0.6767326805981803', '0.06779187191653657', '0.10082735112690829', '0.3899157018451759', '0.9867271065529865', '0.14920851426165735', '0.791906389751346', '1.036174481849225', '0.23393000316145435', '0.20269824003591583', '1.1269409004409054', '0.5504129145695491', '0.3789820049736312', '0.4661625231667964', '1.1317067263101854', '0.19760107116775374', '2.7082126666849886', '0.27864124729756107', '2.843904920683294', '0.4596075039934052', '0.3740589917896675', '0.5819897556722708', '1.1431454171143183', '0.7828676157032725', '0.814793881522833', '3.4084682325972224', '2.1121494406416597', '0.5083259313541211', '0.6417508058288144', '1.1799957752632892', '2.3464495937737415', '1.2403414625998443', '0.33303951224523787', '3.1494349800186248', '2.435108624569622', '0.5264404509931483', '0.4591903428271831', '3.74616177849651', '0.9131291082587696', '0.7611961613607009', '0.09453263194258384', '1.3973695557156607', '2.457022931185771', '0.07170030921334407', '0.04254571598285247', '1.0141326228743086', '1.5031061934801324', '0.9856358786343048', '1.319349959247477', '0.22090914112547633', '2.074958076942579', '0.8061252237543469', '0.6050533279914149', '3.454558912362694', '0.37057324734238', '0.08216304737701335', '2.871943521159582', '0.010250912027503898', '0.32413336239824386', '0.5243230392016184', '0.8912183751512162', '0.1422059677980773', '0.11728744457522564', '0.21317838562423813', '0.4142438792370299', '0.0858256165892286', '0.3194301537933902', '2.292932405951017', '0.35978203584978014', '4.506466721314567', '3.1354626559627823', '1.2959260053936499', '2.3075480331480116', '1.0331272973828314', '0.29615038592944104', '0.002719296427368402', '0.4657030184439604', '0.041307503545187765', '0.19285668184621169', '1.2675613322740689', '0.01731663932570847', '1.1387348698901203', '0.15666496506425429', '1.110548682887242', '1.7558871569699686', '1.2134529731558508', '0.7895389179577418', '1.2064578986374703', '2.4196565577483606', '0.5658185656338172', '0.4646999819683977', '0.38887766064114343', '2.0027146108179816', '0.2390098815883924', '7.766751823094989', '0.1863919279880456', '0.13040163475425864', '0.06628100851554636', '2.3489165283638562', '0.9834482888347396', '0.054692020846370405', '0.8879198323746076', '0.4571003683336517', '0.48574918560567765', '2.54308903332807', '1.813554980626818', '1.9078993126845614', '0.4125210453697619', '0.2076645992958374', '0.07028222993588942', '0.3914465170872959', '0.4104418416166013', '0.4929981942613322', '0.08870819282898022', '2.6339291158580314', '0.6429723626989989', '0.5020943757859401', '0.8946893314551443', '0.8047126431592425', '1.3265195059529682', '1.4653028285303697', '0.9299847529220295', '1.2369303853736997', '2.775219397650723', '0.17992557453988237', '1.5004861150439717', '0.5943219202167374', '0.8898829881089961', '0.24669829931310053', '0.24299630203526526', '0.5803070858904568', '0.040238616375817264', '0.19661790836769805', '1.8058759044489927', '0.13304253650166584', '0.24887027667358425', '0.1325175573380406', '0.4686622454200855', '0.018467346876794664', '2.303644254986651', '2.7823461958739397', '0.07520184138546303', '0.2464369151487159', '0.17789142139689298', '0.6574349466155546', '0.5287633363911922', '2.992221054316816', '0.09035747563956598', '2.4037436731412565', '4.458093640783628', '0.7608054245477653', '0.8797401804453919', '4.811696310783972', '0.31912123458037606', '0.5672246451415833', '4.688725933401757', '1.525593056322628', '0.0071227933682533415', '0.20459663698220568', '0.12125159450135968', '1.6550307581612949', '0.41765874583403984', '1.3251519904257494', '0.6129449418738494', '0.3722600264444689', '0.1321611514710695', '4.488326286997142', '0.10818545947088759', '2.190301526178607', '4.2564879808561455', '0.052424408509118885', '0.9831423022350284', '0.7204284481881464', '0.26304499786010904', '0.1409186910833571', '0.3900892876816002', '0.5905217405233875', '0.10537828711873223', '0.3478469820227778', '2.0135665903806643', '1.8879936809367572', '1.295062311917713', '0.6444011211054855', '1.4246532223061155', '0.02891826263170478', '0.6076038124193256', '1.0914868662060706', '1.6722680387720192', '0.03431554535991188', '5.633192505645951', '0.13614019876718658', '0.6206813139797158', '0.2894621187990272', '0.42970167718926', '0.7745435461135594', '0.6378533358143033', '1.4208578581913918', '0.25082482496167485', '2.2513366873030516', '0.5439125189179677', '0.3846188963530469', '0.9224344010396964', '0.09015185333804165', '0.6740591015033853', '0.49150832014226203', '2.6616960025824254', '0.9953561316286493', '2.6559618749741154', '0.03167530582622661', '0.7741877107452109', '0.7248037286559347', '0.007445718411601908', '0.7131408702638352', '0.19005851652779943', '0.11451012819298836', '0.5708556517493308', '0.20651902681700765', '0.1217885454919821', '0.3799930640874389', '0.35246903716758404', '0.836632173851063', '1.0684553042444813', '0.6815791682826562', '0.5668711794608473', '0.19621209327847564', '1.0058051538440798', '0.5337190417569392', '0.11256179421565297', '0.9108810468608846', '0.27626800588106515', '1.5300006753859192', '0.2432295011771612', '3.020468026247991', '0.2838214074853887', '0.9086360238013712', '0.047568870105544454', '0.43549358997365334', '2.19115090037425', '0.10338592983437676', '1.1433226690614542', '1.7964884371507346', '0.9114757696927063', '0.44467985215939343', '1.077283742915089', '0.8654590894897256', '0.3867084741451866', '2.3960931412335786', '0.5464923844424195', '0.15990677361437067', '0.5314280279574194', '0.1225812065308494', '0.12625741621898795', '2.427244932216143', '0.8941205331338345', '0.09660869395763587', '0.0898377658445534', '0.30247558817610815', '2.114076921830317', '0.33707966458149224', '0.03873496859382229', '2.5683853925596014', '3.586193518995102', '1.1879170236318917', '1.3189128900483504', '1.8521620806747852', '1.4082845506921153', '1.8305003675122107', '0.26235926313538377', '2.5763194729156256', '0.10938998025269821', '2.460543822688582', '0.8803956444270894', '0.6926712000279669', '0.5090053292832956', '0.4538851509546624', '1.8509038852641246', '1.1984735818203784', '1.4191416245538788', '0.2149270128025561', '0.6377531661248025', '0.1503799862066427', '0.1427476856600329', '0.8393915704898443', '0.917161810795606', '0.7706167626328965', '2.4922927776905355', '0.21035817369915163', '1.5081125477501887', '1.4853570437250174', '0.5861806340601886', '0.6270198264231627', '1.055672423972367', '1.7584327193772404', '0.8383541943952488', '0.6736665818735634', '0.07392819019529999', '0.11397175454868545', '0.20636508957401228', '2.064366177603126', '0.5321614261917242', '0.4301852935318314', '2.6814011138859364', '0.024864504549852357', '0.5724612411772727', '0.1290355619090204', '0.5022356968598293', '0.12440346000347262', '2.157798027455493', '0.4381213596316432', '0.7770395056682171', '0.09695630277278731', '1.1457432756941979', '2.748567023766827', '0.7653467606065434', '0.7726238103738771', '0.0027374918544843595', '0.3153629164588075', '0.2623676909339142', '2.6374073122503177', '0.1840041732464061', '0.7384434109104254', '0.26063718261872487', '0.7341830660442549', '1.5191534637406572', '0.7259309165205099', '0.5555224771823708', '0.41988717367603634', '1.0982478082255704', '1.0814888379013443', '1.816302581288634', '2.412163883099395', '0.526165482985699', '1.2458699668349698', '1.4729908919987593', '4.3299760663532325', '1.7282497214147385', '0.5633636173866955', '0.4866737573758837', '1.1414269439266083', '0.019942371873580216', '0.2542539781367587', '0.8696043339165505', '1.0043992738752803', '1.0992209463330762', '0.0307399464800374', '2.1189483131359492', '0.1662991475617233', '0.9539438722961714', '1.1442519553429098', '1.453554743696322', '0.13606328254035926', '0.5851900942145374', '0.4200176685344207', '0.33914931900150685', '0.77961423177393', '0.2244635407253584', '2.0387423094444053', '1.9913060404801253', '3.7625457304474113', '0.23393147661760422', '3.1001287888232634', '1.8663806291284353', '3.1724420531695494', '0.5463627997414606', '0.4939234190288782', '0.9704823232854852', '0.39478210119946616', '0.27918522159018144', '0.6528759060785843', '0.1812744683968631', '0.32797699673821273', '0.012107797575311609', '0.33740259440208203', '0.13628749474146135', '1.5529886628302076', '0.5254413818896673', '0.6059789378256337', '0.8900676108979558', '0.9691974921089933', '0.15128454008229889', '0.23535386499350788', '0.2640035991134788', '0.33278009508605005', '1.3597263597210232', '0.9736446344741542', '0.46304928911705706', '0.6712009357858231', '0.895780396094682', '0.10371555598724962', '0.0420654518963139', '1.521059211880689', '0.6904594112418048', '0.4579815509943847', '0.17410649381080584', '0.24224952461286567', '1.1947805662897792', '0.4663755665185698', '0.42363757343279923', '0.45119336876540533', '0.31454432208164507', '0.59230375726759', '0.1855020994203478', '3.1604112900080805', '0.37738192752562333', '0.5043319914525255', '0.21648311206860169', '0.31217562250848174', '0.6088130224763367', '1.669192920845839', '0.09145799188799093', '0.5766955024245983', '0.6965333480608882', '0.8613534243949885', '1.5616843947248888', '1.4596836633123385', '0.771024125117058', '1.036263381942755', '0.93020375267725', '0.013665517533055544', '1.3934561605985227', '2.2069097097221633', '1.7029206464938438', '0.5307644517186542', '0.8620762392467088', '3.9945203814019563', '0.6935353118073219', '0.6836323463677119', '0.46189855281920217', '1.9823339243268776', '1.325456630256289', '0.894202855415448', '0.9009038593229949', '1.4678883846682942', '2.668492702278687', '0.09798297933841071', '0.49379906136811297', '0.8184141254126808', '2.6506552751924946', '1.1148758974809956', '1.0477712469810339', '1.3530203822729139', '0.24001003672014762', '0.4156191625196919', '0.43012873509478605', '0.31742048730303796', '0.9285466468246553', '0.25648639016520464', '0.8604617788852169', '1.624936846287315', '0.33954014943685495', '6.5816533381418525', '0.43621441631017127', '0.7258057781486535', '2.0194083938615406', '0.786995965111978', '0.46325579524095656', '0.8042092941359158', '0.6204924357035628', '0.9842097792482171', '0.6945975264532057', '1.2506788987645916', '2.904406852347496', '0.05452819604186441', '1.794891060254254', '0.5371977196362705', '0.6036462142536442', '3.2205158973034815', '0.5311641881296758', '0.3719580948674782', '1.6843349430767698', '1.3567720574388784', '0.12109513154621841', '0.360141458939285', '0.4044619852311123', '0.3817174211714716', '0.9988753662092739', '1.4022259262432606', '1.8881765002291522', '1.6745595758930385', '0.3966444466839693', '1.979887539157818', '1.0250985451447088', '0.5509414057309798', '1.3008615012209441', '1.654456579230471', '2.3389270014660366', '0.8023643703694007', '0.40364013001128646', '0.06972454895735876', '1.0391074383544225', '0.4299493593464474', '0.7444629387564317', '3.004285047113908', '3.565556233355555', '0.9108059268882579', '0.5497295589814412', '0.13931339714278065', '0.1594653247710831', '0.1750539195566129', '0.6681612289790492', '3.1345562474843236', '0.38713343999785915', '0.9339091327693907', '0.4062927140549178', '0.4475148580400299', '0.23991503787076854', '2.0580740893169613', '0.005091112434974027', '0.1641945952401881', '0.7151612367257953', '0.5838098992914599', '0.22191584175826545', '1.1172573601301174', '1.1065415181670684', '1.339283442556024', '0.550321111817074', '0.0892910525941378', '0.014963271731747232', '0.11806841470962412', '0.47606922982828415', '0.22497946119993392', '1.039849854668229', '0.4700273351851971', '0.10035520375060548', '1.2570325092775791', '2.6823691864851757', '0.184422421729352', '0.33019858499512805', '0.08305641218347096', '0.4691961001647695', '0.3151271700533676', '2.4719482806888182', '0.18203620532533935', '0.5453681457376762', '2.580679305895476', '1.1726905691710858', '1.839231740332033', '0.5418661450412292', '0.41009739801714207', '3.459925315298491', '0.6075047690304705', '0.23010815713960048', '0.5435662963589726', '0.27403280747138686', '0.2516297270428058', '0.8447531084628824', '0.9288346961575316', '0.33013820383030523', '2.567338418028518', '1.3999502185212045', '2.520284827562748', '0.6969316950841427', '0.32518365663485016', '0.5882425873379687', '1.1193794111976694', '0.6643067750884906', '0.7953474335853047', '1.0958567189416368', '0.2783229521674552', '0.4158368133546565', '2.4836790175194476', '0.8652259613065807', '1.1544376559989982', '0.5173783945369367', '0.9197570084347267', '0.4528248792359951', '0.9884042075162517', '0.273196789566017', '0.08286340142454666', '0.288582824335719', '1.21267338791555', '2.1930189320425924', '4.812398650820147', '0.8360838606881864', '0.8336974676056113', '0.9471533435241333', '0.6535196195530748', '0.02649290198881423', '0.9689595479666745', '2.216945135367938', '1.2467607286638447', '0.5010213854109494', '1.9657612335056585', '0.7823722456589401', '0.3600634961261804', '1.0603654119159027', '0.371886712792492', '0.4892628204680397', '0.44085787114619057', '0.061724347342820764', '0.8681700882728021', '1.498096780447216', '0.21903043879340323', '0.803632629577143', '0.06768927033590763', '0.10444109019464037', '0.17403955070268776', '2.230581253428536', '0.7814088652598963', '2.535898083827034', '1.4700196938566152', '0.18384729585416978', '0.27358011555519135', '0.3008731862779434', '1.6275075072141016', '0.2554885796728141', '3.0632075094566225', '0.8416085847273715', '0.7524359154180064', '0.12771690019511117', '0.18196480572136148', '0.043631876963946034', '0.11041988867377057', '0.9909121772280797', '0.2583657714681528', '0.304027237537456', '0.2877508157976904', '2.342736778100149', '0.21649394218062903', '1.2059067543587763', '0.641095481799776', '0.8613721381452529', '0.6889196183057305', '0.445197810660435', '0.07609504856980899', '0.3262133697598344', '0.3771951883193289', '2.1971427128914174', '0.7040922348454043', '0.757517674117701', '0.12114994896747817', '1.1672189883847608', '0.2412169527045762', '0.8496887122159902', '0.7089862320113832', '1.9619835765213733', '0.8487076954877351', '0.38371921469035297', '0.10168407488963954', '0.12452032137375732', '0.6228323665992336', '0.027594976930401176', '1.432261347207207', '0.4796665469196902', '0.5351128418529277', '7.324821988671951', '0.9650585092685603', '0.17285277802534196', '0.18111050069326448', '0.11451403941170651', '0.9934909821101545', '0.09140465110287183', '0.12715736128207294', '1.6368284349822468', '0.050951574050884046', '1.7420837856290203', '0.11674299584400363', '1.2026651821127392', '0.708698526112386', '0.04505200672004103', '1.027309377014292', '0.30207409212431763', '3.1613876875231304', '2.3952167012814893', '2.9336539124832703', '0.19394236742973112', '1.8786777599344961', '0.5443542022301094', '1.136351990306602', '0.546090654327717', '1.1318404132886686', '0.8495799841948375', '1.2293050374832195', '0.21048409148638614', '0.5137164965108747', '4.149523470268391', '0.8333932955066277', '0.42078036475843816', '0.17920960564562405', '0.38053650584772475', '1.2262490912407238', '3.3503244528038962', '0.18191797194840867', '0.5006572057252705', '0.816072066609621', '2.5078037986070796', '1.7558979453869752', '0.495334503126337', '0.1166849506701504', '0.7559582831891174', '0.012246058153998837', '1.8292169567962666', '0.8602008047418529', '2.2346997557621155', '0.15839909349053694', '1.0491697604142727', '0.49918978656512986', '0.9497582190594211', '0.9319660419967749', '1.289967644052082', '0.4246743460656626', '0.08580021531087677', '0.12539509562168763', '0.65277650962057', '1.543900288275723', '1.840182356250688', '0.5478171735779059', '0.49544117314329944', '0.698980845794273', '0.6084004281530441', '0.12991435329306428', '0.751443457729753', '1.4714927679232082', '1.7296833732986534', '0.44589965871841847', '1.26587299182623', '0.44780299469750673', '1.7543090500788396', '0.19291321978719042', '3.033665052629834', '0.7010212366384956', '0.311521187976077', '0.19800481916417487', '0.030260711331066246', '0.9361987591796932', '1.4467408633897982', '1.6104253004325473', '0.038381208144611094', '1.037229238682586', '0.19470360055188737', '2.7735482278337473', '0.09461766916787236', '0.2435862695220117', '0.4381275381184156', '1.1310377161258383', '0.21400522735252403', '0.3043523213506337', '0.8827163083941033', '0.7864898588469208', '0.3059616858969304', '4.365423995490643', '3.7625064172168314', '1.6694528416759806', '0.369452589691426', '0.8175268831149732', '0.913184499013677', '0.9231232119219441', '0.02117913471248704', '0.3665975482541314', '0.19776094888557003', '1.9126882705205641', '2.0384285705312313', '0.06876178379485134', '1.45010617870287', '0.935137084200862', '0.4878791255474177', '0.8196038799903251', '1.6877474932658156', '0.42407410693854175', '0.016193919173140243', '0.552723144604167', '0.46392683519482225', '0.6990487758438122', '3.351155583561147', '3.2651006350612235', '0.2766290973963363', '0.030352502072032782', '0.6491774259905126', '1.6351459545386475', '0.04311418648855781', '0.0014805428129699108', '2.0157211573092577', '0.023701652031162035', '3.3833768240878777', '1.0197319338441089', '0.8607366906193707', '1.8862116489771377', '0.86339101747575', '0.5710665216466786', '1.32042061894149', '1.0071098064219366', '1.39141086433968', '0.015632820559075607', '0.06489986913115983', '0.8436496358797831', '0.4935045628434822', '0.7341883668303812', '1.0531201261932828', '0.1857377871857533', '2.878770118587012', '0.945138946887376', '1.5014535208095883', '0.25622158770454584', '0.053585008206439924', '0.1590536899012311', '0.37155651386168026', '0.45703153001912494', '0.1252956890026302', '0.3030991135699801', '0.7506710017140935', '0.6656191349534453', '1.1901880240950704', '4.037076265261306', '1.794542445135156', '0.9936288192761077', '0.23916508134767947', '0.1937346517447958', '4.052809940580672', '0.29280149766166574', '0.2789206685176901', '0.3741879441193931', '2.645226083274907', '1.4145775770745266', '0.0794663833690756', '0.6750109461504612', '0.14879190753527055', '1.577349792145009', '0.1700555096766439', '0.728355848616142', '2.6066374532661185', '0.45621210146523883', '0.44015712015240827', '0.7618019895919222', '0.6558087792187364', '0.7888939487405192', '1.635504449404249', '0.10526083770847428', '0.2977711780969882', '0.3129084483125018', '1.6841488181971294', '2.6242075229013704', '3.7963036099406655', '0.8386311179918554', '0.8900163966327462', '0.05323207456086126', '0.02002001512576232', '1.7220789581284905', '0.0728928389381105', '1.5645870684986158', '1.917627083378499', '0.7913922073831634', '1.714874544912498', '0.00547531778512373', '0.650210700244935', '0.6715320766920626', '2.092424992225972', '0.05903246661380194', '2.622710997128206', '0.5445085024168373', '1.8961865795558936', '1.5093034961880256', '0.14219768812186334', '0.806368460357084', '0.8306117656538508', '0.10020363131934398', '0.17025308296085206', '0.12151318345328531', '1.217528690995996', '0.0671643480612092', '1.9036071778102608', '0.7878445694993796', '0.4070623450331517', '0.6594403844878743', '1.2603106682342469', '1.0447203433973224', '1.5743062341119285', '0.10833382813934914', '0.8146844148407077', '1.2431218555635288', '1.0785011283169974', '0.2950624813143705', '1.8480894578221294', '0.7655219616739826', '4.982155796449135', '0.37401710200182275', '0.6392807827915069', '0.3848664548101333', '0.2716137432183929', '0.30616089587684037', '3.0184990417060282', '0.06869467862724737', '2.5038959724165077', '0.8154236571837261', '0.5979579309563579', '0.5067434882843848', '0.9653212021635987', '0.5336988699613605', '0.2621312069778268', '3.4742664557763834', '1.1608988470947563', '0.16476535048614074', '0.12392074172971099', '0.7780414254857305', '0.8239576494934074', '0.2492385876287988', '0.24958808756190054', '0.5309197247823381', '0.19202312020653506', '2.1169986549294277', '0.600401811554644', '1.0391437426563688', '2.643280117681751', '0.25108439203249416', '0.49599833206755595', '0.44537611174075314', '1.9504043187687525', '0.6873557457067041', '0.26210345646966876', '0.6280051514976894', '3.346062952164093', '0.9218494871459455', '3.5832552771547634', '0.14103228041439936', '0.9682122188675739', '0.6486889131744183', '0.33557438042202986', '1.9021761524941705', '1.3811581650116218', '0.7025658343968008', '1.1214463002784263', '2.0849054126668607', '0.940858757148901', '0.5692149871756796', '1.138070658077695', '0.25379273005876657', '1.5225148322268711', '1.6298011187189498', '1.0937512577452746', '0.6647270426069094', '0.6135354316259384', '0.6367812006544502', '0.8733775187131425', '1.1760271880172353', '0.3471396052787765', '0.8940666893540332', '0.22644559066234293', '0.07545521542597095', '2.123882214097898', '0.5656128700246144', '1.9275263455712477', '2.6463498532158938', '3.960258432411079', '0.3155509935249806', '0.1520649570199544', '1.239315732484813', '0.7967963151838059', '1.4567350225398212', '0.09301772402705041', '0.44557677785162286', '1.0758114799764735', '0.8534833642512383', '0.08607932905761413', '0.9106589454779624', '0.7309192122401964', '0.6970288841712599', '2.578073129134764', '0.018069572896304918', '0.6829076941429304', '2.0081537563183707', '0.05161677338816088', '0.9180380413392911', '0.40049184792709736', '1.2199780372411502', '0.42963376365943257', '0.1319465220687105', '1.7223958374218493', '1.3570128109311512', '0.3545551906027837', '1.076823998860335', '2.1000513480162675', '0.17579119259557408', '0.04297758860877077', '1.0011112077654447', '0.3054776244003617', '0.2501756254355313', '0.20268409632007797', '0.6495358889016252', '0.4860045886415085', '0.5718457823630634', '1.192468696538706', '1.1497537905286446', '0.3070124766879692', '2.0001318504458743', '1.34374699107917', '1.0430432763846849', '0.4919713111162093', '1.3048831457642793', '0.775824094115607', '0.12603543213051852', '1.5591227028576786', '2.214464497020524', '0.22479029254423588', '1.1512713468368208', '0.15738718524791726', '0.0048605945777982565', '2.9793987303430227', '1.4213361995644935', '0.8846270923248236', '1.2335752822914439', '1.5642575797574023', '0.0699711781382947', '0.08980897063385668', '0.10035941159664234', '0.7585689271156568', '0.9568980859410647', '5.0852796631934405', '1.1766654705237407', '0.028590441735275588', '0.42609920547393637', '0.6639403812760645', '1.122960630316371', '6.929296610496602', '1.3987954176307713', '1.2527876219168694', '0.9357360816676515', '2.12539072659338', '0.7369311377117075', '1.715512425348621', '3.1639797170064488', '1.0937567543436673', '0.8036476614367992', '1.0186234084374324', '0.8855630436437241', '0.6902634062596505', '0.3118109519171232', '3.5967647292261447', '1.168829646869307', '0.16282547773169337', '1.0634777778576525', '2.3429240498473636', '0.5208150157623074', '0.45125324671812556', '0.21363319908723494', '1.6157778789268435', '0.010149652161605485', '1.8401241838629538', '1.4386955438883715', '2.550806774138037', '0.2932709992267762', '0.20030259845654663', '0.4328421498669065', '0.8188533436084093', '0.24947230926073458', '0.3578127129423212', '0.19932387244611127', '0.11922241378247214', '2.154280351671292', '0.5265266724367278', '0.9465292208767564', '0.744318911661177', '0.16894987658049468', '1.5931127870912047', '1.9097381939440952', '0.8881864092711119', '0.671867159377362', '2.552870197457958', '2.4002483886553985', '1.186272203493281', '2.988188549875416', '0.688743655016597', '0.7693444720824213', '0.2441468255230213', '4.006704068771844', '0.49916838272463365', '1.2074833503254172', '0.8645015401763801', '0.2623766975590161', '0.10303648968235773', '0.8290209226352467', '1.0989669461673526', '1.5020927047642034', '2.726957101266946', '0.2616585485484117', '0.010320714583060874', '0.45156904744939097', '1.3066401268807986', '0.4388101750009061', '0.16661912770806656', '0.9255780829252431', '0.23715349248542333', '0.23536114931872296', '1.5665631385563945', '3.4376310239305665', '0.2903095943255576', '4.917444639600108', '0.3078080961331139', '0.841435049040061', '3.953661384716889', '1.953519669198306', '0.5801753044476265', '3.426637705236235', '0.0968030005297865', '0.628296840215535', '1.1573026092036056', '1.75341879907554', '0.5835475580853227', '0.9389099063439776', '0.5231904352863237', '0.9829290250233889', '1.3743229675942403', '3.32837127062082', '0.05177061153078905', '1.0226629311572153', '0.20144808248766488', '0.2172192468749225', '0.3495535955048074', '1.077486287452886', '0.8596244437500569', '1.259975021788246', '0.6489389407138363', '1.1874323737752988', '0.31416404822056204', '1.3485323759254753', '2.945018201019954', '3.200481787052159', '1.6222221720127168', '3.34559543400404', '0.1975180207843867', '1.1768801102972781', '0.7477308344253323', '4.466275214146257', '1.428030216488346', '1.5775816167586691', '0.5677365346745629', '0.19385633378588019', '2.156158252715337', '6.080421068279692', '0.41756492792069144', '0.8752225766518857', '0.11475545888168694', '1.6134171777894186', '3.2355689181422074', '1.764859827649132', '1.7938277507829545', '0.5267407549423639', '1.4538670439439423', '0.8681716916263827', '0.25619972348684605', '0.2660582691292987', '1.0830767036595372', '1.6966453895370877', '0.3014334049840908', '0.040835300103415455', '1.4137157828100986', '0.6450379858545844', '0.44402503219693157', '3.1614747403870185', '0.38694642381916816', '0.2705521089508083', '0.17816322040483082', '0.13927000071975848', '0.44579371722375655', '1.3866295232238623', '0.4771651983194139', '1.9905813977999056', '0.6580453917366663', '0.19818259952760003', '3.879466655334343', '0.7701739915293018', '1.1463947349740193', '2.49741315865734', '1.0806141035285752', '2.9669489882642215', '0.7060596396028888', '1.414022470478932', '0.4553993519213516', '0.4103638845369412', '0.2732977778180308', '0.548042813664492', '1.1413983668695484', '0.6748278920639876', '1.3537091403647818', '2.328405682843109', '0.1444990075949946', '1.6968685405081274', '0.289880983874166', '0.17031136670268954', '0.3676102173454038', '0.23354380107682352', '2.408820284332243', '1.0187315442329707', '0.36883403117558894', '0.9757879575517451', '1.1184388551775302', '0.26293678101425016', '0.6392025929751851', '0.3890638697898706', '0.44693374391669827', '1.3791045213610595', '3.1968644917651274', '0.18060607167673767', '0.07931952806146099', '0.9909152266735195', '0.08530589167429802', '0.029856312302398682', '1.492803005805083', '0.23550474211833416', '0.9256715788347564', '1.5386767670865584', '1.227364796720698', '3.9581945554482836', '0.151712742675871', '0.33664088691150756', '0.6076044543094601', '0.8196036898221372', '2.158071812198267', '1.2088824269069973', '0.23261183353950748', '2.5855041694929954', '0.28238468899187247', '0.34848463291423626', '0.24349749561290013', '0.8696059517325473', '2.754328035383134', '0.30106093923878857', '1.2750698739881259', '0.14338295251520394', '0.715205027606232', '0.14731009664988126', '0.15887342497485282', '0.4495656132486463', '4.596790379861155', '0.798775308625178', '1.172129678391948', '0.094387407270048', '0.4220972909737243', '0.20053725895309363', '1.1450713639414647', '1.1528035256558182', '2.254665157074441', '0.5217256256673166', '0.20715384110274818', '0.6240008126327079', '0.5307272350184147', '0.17350941299237574', '0.31233756439067156', '0.14949021523762362', '0.031440409516324035', '0.18592067533925957', '1.2051324445278369', '0.32847025094926685', '0.30163448373508617', '0.11582976832892133', '1.7174792987161565', '2.5556067285817083', '0.7610433254440065', '1.769803232000544', '0.1365103235371461', '0.43867125422302244', '0.21431283485346053', '2.6290059556564445', '0.8530752791823298', '1.1588495033668158', '0.2233119001390515', '1.023459282383553', '2.73400754455389', '0.18490200655150715', '1.8930375265043826', '1.001838226160013', '0.20158619521667198', '2.675259921291927', '0.4324534467766104', '0.37299425224757227', '1.5549328349219913', '0.5716285491360129', '1.554821268666982', '0.978084671685792', '0.6973491616052819', '0.4739257602440248', '0.5061219907196011', '1.6791409083627953', '0.8572101452279913', '0.48654988768548413', '3.0507181751448176', '1.5205910103034643', '0.5964916910197937', '0.255190450235179', '1.16766577523971', '0.8890039360739307', '3.0075225679000375', '1.0962238920643594', '0.8109894960122532', '1.6988046748203987', '1.402651767632752', '0.6587253733826773', '0.01913000854109065', '0.44626814160236544', '1.0867029354960402', '0.322365111543715', '0.9849084631477356', '0.6463082608797455', '0.17069305281996106', '0.2835426648957817', '1.1083133647577863', '0.32338207159415505', '0.17569284590074846', '0.4610607932430784', '2.4927609326469082', '1.9936653924557044', '1.2144383195351998', '0.1410784216706807', '0.2593798368927966', '1.4450186316975264', '0.23947268947044453', '0.03261665552133533', '1.1515459592319355', '0.09984882232530062', '1.1709044696184832', '0.5796699424430576', '1.3017421562644789', '1.3201141108495305', '0.6599043955492826', '3.4309766056470106', '0.09221509105457656', '0.26485123596261567', '0.6996470486700394', '0.48325261375932377', '1.4476055308025435', '2.5410744645360013', '0.3960962994777628', '2.9938963260408924', '2.778521728342451', '0.8252528169970849', '0.6715166679810788', '0.13595025085913082', '0.837959677147797', '1.6982759515348487', '0.07049972119425958', '0.31836409309103203', '0.5769349855582803', '1.176445422209605', '1.4491974898882163', '0.09800454198241637', '3.8416027482106703', '0.04434925711612384', '0.3038702769680884', '0.5528077583093898', '0.05494472456698893', '1.5262274033085779', '0.5914526390155814', '0.18337180200779193', '0.012599230787709862', '0.7947909322938725', '0.4942623081765853', '0.1959501561763776', '0.4350534134078905', '0.34822503394078175', '0.11727499812620067', '0.9978431798879007', '0.2861702543953032', '0.5397702185670793', '1.6357310930441271', '0.25894124974183835', '0.20183065908098113', '0.9338401982001767', '0.11811475162155202', '2.4067180959907697', '0.0015595746095101424', '2.5905236931785693', '0.18903376361703048', '2.440123936032519', '1.6438480045807913', '0.5705251270759456', '0.34642228073523224', '1.154362896076488', '0.5503196244550533', '1.1399339945522777', '1.1333227943532294', '0.6312821661757185', '0.3278092200423711', '1.340953883022769', '1.502583957584258', '2.966628472412548', '0.3517479482681664', '1.2118964450963698', '0.39271872729033797', '1.3037629759496294', '2.7902204799344834', '2.1197563706685427', '0.3083206662198203', '0.7218022072020931', '1.321364601535091', '1.3128052219767352', '0.6403261570539369', '0.050202779226333226', '1.0408910496345152', '0.48550295425822343', '0.0567231326352592', '0.20099555531571392', '0.8127427847439719', '0.2350433497727599', '2.7537588151036867', '0.10495762442361427', '1.8697542016691802', '0.6152524948441915', '1.6653423666519567', '0.4430701118601038', '1.9296365018179034', '0.3179217355125906', '1.1872421854718982', '0.048283250056387894', '0.1993156915742848', '0.9430595506133472', '0.8141350628364331', '0.616093109278958', '1.3073392127805978', '0.4186238190026376', '0.40058767009388313', '1.2058836241010509', '0.25910918208619715', '0.3161246102372515', '0.159116136737427', '0.26355439457269647', '1.6114173814707493', '1.4656008592309597', '1.61003387022129', '0.504604013170783', '0.20340940989291442', '0.18384111450215324', '0.3514901537028968', '0.41699892353038126', '2.289833446718313', '1.2944913391457542', '0.7969942919940917', '0.4472094464395416', '1.4968516436687667', '0.11299536225524609', '3.367826449366596', '2.517469671108045', '0.014185547565002307', '0.401041978731801', '0.925858621892183', '2.162997034965492', '0.9062235594206889', '7.981734266671808', '0.2799218144029202', '0.060840382460193194', '0.4204961828522714', '0.6247324157269991', '0.2728977990215931', '0.6375476991104849', '0.5836846781185925', '0.7446882670673971', '0.18822125737225773', '0.7521244357561667', '1.0789578854438022', '0.491000304519695', '1.184573742379246', '0.8101978987616943', '0.42754034454883705', '1.203397561359804', '0.8140163969683435', '0.7732439498765628', '2.328810666304238', '0.2455111127793683', '1.5196035013554896', '1.9408511361856065', '0.05647042491576127', '0.9985117197638583', '3.191773112689629', '0.04307162327679152', '1.1511795683171746', '1.224240996353399', '1.1030138968874414', '2.5342215220073894', '2.197210863618265', '0.014575329221555066', '0.41968072384521915', '0.17593721095319498', '0.14198125646005202', '1.6821247408395141', '0.12012510349606575', '0.6130400448435814', '2.6603670536343227', '0.02467056515136241', '0.08952885246078338', '1.1360014727414274', '0.13195581197554204', '2.497672815018793', '0.6871485515417269', '0.12350668572322884', '0.25042118643899813', '4.342419549781502', '0.8316392144908002', '0.8823939669690003', '0.19374416117839632', '0.49668517924000016', '2.2065548287622048', '0.45011384714392205', '0.05915093875299464', '1.09947819719866', '0.4074727184605022', '0.210895983070045', '0.052277620504381936', '3.1269719045029016', '0.09950075286797756', '0.7276442224645404', '3.0067355981869293', '1.1776779931740775', '0.32159650673946777', '0.8605537389811112', '0.19573257167605818', '0.4487987299647438', '2.2486023956651877', '1.5991268121500624', '0.1793752906976841', '0.04436231331281634', '0.037916917571933204', '0.09481583864135869', '0.8728665281953165', '1.6591373418301196', '0.43902072899462347', '0.08974858894139069', '0.051854240512223426', '1.0481853451743466', '0.19819240126953883', '0.11759818518445656', '2.892988332416189', '0.685380915478639', '1.1214604389355347', '1.6100663103860813', '0.5219447828717036', '0.11425963399046263', '2.4532649965037447', '0.5284762457003875', '0.5624255703335661', '2.556347655703992', '1.1411488540548447', '1.4389174298253458', '0.894229810399431', '1.1263745932104647', '0.06551915148051196', '0.9417169781320139', '2.6379846782888867', '0.2743193012683681', '0.5181092916326049', '0.9999624096432657', '2.072663737357166', '1.819955586578015', '0.3680471167607738', '2.770489924215208', '0.28277037978456554', '0.06506971320869451', '0.19778183215306408', '0.6377781324461731', '1.1864627210960503', '0.7797831872204769', '0.9280804265062792', '0.9379470423815234', '2.5497620816597104', '0.5918505302049895', '0.3175039067990018', '1.4259133169504954', '1.5985865038879334', '0.11059458708205494', '0.0794093529751404', '2.69854178770461', '0.14686048047911043', '0.8571468608200965', '1.2098013231645386', '0.2054716428103918', '0.10758380366743088', '2.2324827014517807', '0.4388867407879805', '0.4521092149527309', '0.0763345215051117', '0.9493401022661234', '0.1306376883069138', '0.9982797404997986', '2.13998504064335', '0.6929560756651548', '1.4817996299290213', '0.1620586639159906', '0.6474557758929793', '1.74020448678274', '0.951468678839815', '2.4765220412850835', '0.2968958190039618', '3.176477362425721', '0.4324006708460967', '1.4891896135520652', '0.31198021507232654', '2.25709063139908', '1.0103084005667042', '1.0392529087470395', '1.8692035881692666', '2.155835127147155', '0.14589013390409858', '1.2598093652461848', '3.782616099721916', '0.49266414593727725', '0.36019844836509896', '1.7506344584133184', '0.5029950070643511', '0.15942519673990171', '0.8438862795182664', '0.3699887128584762', '0.04397082340077281', '2.0659032643322575', '2.992727971857177', '0.8810707192273559', '1.589197584591644', '0.39311233065826195', '0.4395147121720707', '2.1461330759238773', '0.2362924206129947', '0.19150768499303938', '0.2714716709920161', '0.09411116870913215', '0.3831653600264512', '0.6029254725846003', '2.2752139994109113', '3.1602323274960233', '0.15019566319158675', '1.4620275719620541', '1.1498339458657834', '0.5067537045147775', '0.7734623851955189', '1.0303211636119352', '0.459212573975984', '1.4989759245097238', '0.7032305335036697', '0.030248015021242223', '0.1657654489934981', '1.5408492671353415', '0.3994641467181167', '0.08984369826811735', '2.7959647293563643', '0.2608408189946839', '0.39227145317590967', '0.2743390661283563', '1.6242093927743482', '0.5857273219180978', '0.02151796684496342', '0.3962855005024204', '2.544679782720365', '0.3908340701352746', '0.6036689483273546', '1.4274622992466066', '3.318971445895606', '0.3702182120250223', '1.4533768617392893', '1.4925217590045021', '2.254465921822679', '2.1906483906803675', '0.16820153580885552', '1.0060358088454904', '0.29996254400084854', '0.9777831031928975', '0.724735958981435', '0.6882896623002714', '0.061353090778809016', '0.8728897748255536', '0.32078873124831303', '1.4853616719397618', '1.0817907446486588', '0.1643949955579866', '0.38248108954527643', '0.11824460046130122', '0.8712769429010114', '0.6646351542967507', '0.26313078236618714', '1.3729926995206903', '0.2481007921842139', '0.16547219442406505', '0.17552963123652027', '1.2833954055761765', '0.19338539892932047', '1.0166602422585285', '0.06197915566525993', '0.37335035338161743', '0.2836662349109713', '1.0508582184126702', '1.5152304725209167', '0.8849475777492745', '0.7932127179132928', '1.7719726149495147', '0.7087371291488546', '0.6887986627855279', '1.2916666836539121', '0.3885252675606116', '0.06655248690568724', '0.5810541147368574', '0.6286386755787248', '0.9027240889445676', '1.790104650899322', '2.5041183327399614', '2.2139507375732403', '1.5136647019034557', '1.1749442949070439', '2.314302261767991', '0.580850978556702', '1.5967894754935772', '0.03283544442961152', '0.3199879803847433', '2.9550373038903115', '2.0568129621050764', '0.0580951552089419', '4.932310806491631', '0.6591747953283661', '3.3049440541357296', '1.671439981096945', '0.3063987481799965', '0.022139960018377834', '0.312914959332806', '2.0286072483374524', '0.4733164338637388', '0.2984002856222912', '0.4831427095831355', '0.795446946993463', '1.1202515821920696', '1.2116516688753904', '0.5912983610512825', '0.5688912229641744', '1.2164698320783864', '3.9974439459885596', '0.5172077501744937', '1.1420830084437439', '10.232758490778135', '0.2709891621493844', '0.3814295612774867', '1.483137493625634', '7.212634693481782', '0.3228758689631956', '0.6449514026775003', '1.283826058942181', '0.052329710731351516', '2.7807221416536394', '0.6524230884766808', '2.2745413007967525', '0.07483351270495686', '0.49499217678022817', '1.6705200439620869', '0.060503758842777935', '0.946540610012266', '0.43748263252472847', '1.9490412226024003', '0.9076813243111976', '0.10722392477298993', '1.9913338529311582', '2.1574868966397243', '1.7616120371557682', '0.5784371895443365', '0.8134240284661358', '0.22194893202876417', '0.14898230345166893', '2.0240117282015935', '0.22037829848023063', '1.381470925436436', '2.1033386054646157', '0.8844829686662026', '0.3821303921874486', '2.48626727606438', '1.2352985108033876', '0.3738572896587228', '1.299181269157096', '0.7153505889719397', '0.6710968467348104', '0.4364644993334367', '2.473380792598368', '1.3335031159575128', '1.6537499669020672', '0.02466954379495023', '0.9548282770708603', '0.5709292651184954', '0.40603982125783916', '0.9845114132198053', '0.6226989200743671', '0.24654137486018582', '2.0022944944366867', '0.39827023024133024', '0.8974587880364097', '1.701044832824124', '1.1084023000268914', '0.029496435951648574', '2.2559953003808495', '0.9921778130505767', '0.6607170149243321', '0.4731447906371714', '1.743863234597648', '0.030200031428354', '0.7571229756709625', '0.6897340012744957', '1.7179095966594362', '0.539907087175029', '1.5694612033092847', '0.981492721126988', '0.9855155560555502', '1.6711742890391506', '2.754868292563702', '2.6769367323031226', '1.8730856432130913', '0.8823973567035892', '1.1814768456446274', '0.16321790339347764', '0.2994740486740558', '2.1514381554046906', '0.1706832617869357', '0.49971623688353317', '2.690277653304408', '1.150356492987684', '2.1244093159017345', '1.328322982540029', '0.03155219158450705', '0.5173088565800379', '0.789044397916073', '0.036293644905266334', '0.3682782699685709', '0.7489188125281202', '0.7253787923624182', '0.10688018617450439', '0.14487929596355426', '1.0108662584180044', '0.7091745681536922', '2.0166654616771083', '0.6334538437392944', '2.12422390286192', '0.13320710262441832', '1.326126988815659', '1.7685890280969423', '0.11732160949761969', '0.16740814581444943', '0.5219312098020115', '1.3744493004954847', '1.2010008362488176', '0.5760291020921079', '1.9838510604137913', '0.17681988005757268', '0.07878011412072078', '0.2722574326051855', '0.9177570530064232', '0.23007231037686163', '3.210824983077871', '1.505502778365414', '2.4071490820494272', '0.4053467308808749', '3.009855460152462', '1.1731605018767082', '0.1722120688641874', '0.2715721523893813', '0.5394956459863895', '0.12252470298388206', '0.26392991389185794', '0.6346124839197375', '0.8315684524161789', '0.22419309027734421', '2.072464730867166', '0.5734448444693638', '0.03338421302070373', '1.888649322626007', '0.44170802795327385', '1.2906076593318196', '3.9776604473734163', '0.887415047276101', '1.8239001403784085', '0.5985574351988175', '1.11128747007606', '0.6142930239847977', '0.23897071034839737', '1.2261857987923133', '0.6725312684329813', '0.8537268693875619', '0.995165752149728', '1.8933780638340723', '0.013880197557515713', '0.4272903775096443', '0.61617642289871', '0.18577963767520217', '0.19907576339208335', '0.08780651713946505', '0.12222799481743503', '0.8246324531071932', '0.5640543073269993', '0.38757569718915824', '0.07580547856320088', '2.6566665683569246', '0.2603766319525243', '0.7539626539093862', '1.1678284941131334', '1.9102136549970958', '0.824430113719535', '1.8471792977034038', '0.2440336528495076', '1.3507808126601848', '1.9350322263456856', '0.9414086079399253', '1.6635787879302322', '0.42723678423161404', '0.8381519061762306', '0.2967825755314038', '1.1190522451690619', '1.3428727929585138', '0.22482781102791477', '1.754607084747567', '2.242692648198806', '0.03775483315521155', '1.1589778208384158', '6.299821134841645', '0.39026686505844876', '0.6390062863701783', '0.21090692961373758', '0.2718190971753831', '0.8527481298606886', '1.3239798408570427', '2.0950377210655953', '0.8410231729721219', '1.0478184115791616', '0.7787255031502718', '0.029477697856373834', '1.4483729501075329', '0.8118872431774437', '0.23739751924531588', '0.5457968137898362', '0.09002521778581188', '5.040061399287308', '0.9011730618493666', '0.38630452518720265', '0.6845254259234423', '0.15170340225074705', '0.11691137633414779', '0.5149328243278712', '0.27912655323756363', '0.2306289150193947', '0.11511719503271507', '2.2700187811145787', '0.057242119798609034', '0.0010847902700605418', '1.3249803964047766', '1.0863298481864698', '0.4573303859173736', '0.07127611830527757', '0.45359331685739895', '0.33912427856720906', '2.079465143648724', '0.35769757210416264', '0.9066481944884457', '0.5616850018170619', '0.19894156967055146', '0.29065355254338426', '0.09940421048502224', '0.47464414714794767', '0.4882190952603444', '1.3466994904874994', '0.17455137111770058', '0.9762147730745803', '0.4238719594857296', '0.3681436833228603', '1.4591591570259528', '3.1765864088362683', '0.18017859977789835', '1.4897921901664768', '1.1458698467013724', '1.2496900275516563', '1.4344405842674335', '1.623358028466971', '1.3995554284442606', '2.1258280898622415', '0.6075416975699937', '0.7319821018586713', '1.150856365664419', '1.0947835725965245', '0.9508385693884925', '1.8716789488503198', '0.7518939965125108', '0.8653064111535524', '1.2936502836750225', '4.338452539246909', '0.20949032426469813', '0.45333886780378324', '0.08162022073650262', '0.022059861322170488', '1.3414254859258268', '1.601348223374675', '1.003468827502517', '0.6089390892467315', '0.2589996856361299', '0.48165250498388334', '0.796675651021453', '3.2480822011871395', '2.1141125943379206', '0.0716927918310442', '1.2119762425516467', '0.9471398203287564', '0.13860214014200742', '0.9807079310502864', '1.7285622131104963', '0.5191895984380064', '0.141002342834954', '0.24084184618355578', '1.3784417054865208', '1.283860682368926', '0.47756551358001775', '0.24785395387085246', '0.6512634680500037', '1.1526656244078806', '0.4461529968719425', '0.11792109429882597', '0.6555594674287534', '0.49990157461199103', '3.7348612096793703', '0.4100578659553155', '0.5055258867982335', '0.9228818440756427', '1.514038058793723', '0.18196481415311372', '0.08228702382184103', '1.8347825348024052', '0.8090790514612033', '0.7978860163005841', '0.2665963471897887', '0.23492991064456778', '2.2137231262433814', '0.260059491041775', '0.13944690026129655', '0.008997170305191302', '0.6698641750560049', '0.9982677211332396', '0.3475158448759471', '1.0958819540836553', '0.9358684971692335', '0.029138070777250037', '0.3375461979004863', '0.752136244467205', '0.2635252037123316', '0.04835756095557102', '1.6278928374699395', '2.1330166887296893', '0.4374831245945886', '0.40049808292840067', '1.4009370902467655', '0.6949300465072055', '3.5920562055822436', '0.2377753337688209', '0.2334255296733456', '1.138152747891854', '0.38386402946576403', '0.2077420420730923', '1.0527069442938992', '3.1358111141971747', '1.427406111067311', '0.3878530649894826', '0.10850751874186473', '0.24269042863488438', '1.4422174018677267', '1.5013711497385238', '0.5452079550841417', '4.250227920935866', '0.280211229142115', '1.3656727689506294', '0.24073818592965568', '0.9221534352090928', '1.803267111863273', '0.49442611594740715', '3.423341000074405', '1.151894732756633', '2.6562869432408953', '0.6171153190974799', '4.037957881759025', '1.077784071838197', '0.03971632887365103', '0.29223638473783403', '1.5504037960224166', '0.00017495258870721045', '0.2239309809075141', '1.7429128692040483', '2.479351534471061', '1.0195075573634893', '0.33219503979727066', '2.741795750847889', '0.8782666540454992', '1.5610674139213112', '1.434656368444431', '0.4474194671305856', '1.5257044309353405', '0.8580188443764225', '2.1982912141211854', '1.4089560446026337', '2.9332144120035495', '0.0221633221327197', '0.5312519264200412', '1.8557262171990934', '0.047857247540142075', '0.6097649642708223', '0.14683256151601862', '0.12279321679671089', '0.789908648441101', '1.1492967861784784', '0.6568317778399426', '1.4916596535112676', '1.3993354586681837', '1.3861003818352968', '2.258611246823485', '0.5773964928529364', '1.5100940449083067', '0.4964225614149921', '0.8008038493280895', '2.2495945918632683', '1.3272504070192186', '0.03851202618605203', '1.9126443430063882', '1.811723325818831', '0.3986324650455234', '0.10295062868977278', '0.2963196635050507', '2.51125557934561', '0.33125394927889756', '0.14211631083323228', '0.3475920274011682', '0.4440560902304403', '1.2488062237455122', '0.11007115916159815', '3.8235725239593927', '1.2930527686637077', '0.2869055959922467', '1.4888878838192046', '0.06866914858054333', '0.09062702816181861', '0.17187852742372117', '0.11211899456367719', '0.32180935243906494', '0.36236723595024306', '0.8269180635664756', '0.9922589154441968', '1.639579511265405', '1.3085206630244086', '2.6550590198533386', '0.013661826799514068', '0.1684323529582772', '2.0001156998794936', '0.08666449551336196', '0.17372627901988982', '0.5768721449313982', '0.7098695103698617', '1.191592170912117', '0.49208095650813055', '1.0273042942287554', '0.20006713659016243', '0.4804662292936235', '0.7349193719554646', '2.6862089040335095', '0.4307866364851285', '1.829560136625239', '1.7821937597944322', '0.7679497676052842', '0.06969823853536389', '0.1339026545242537', '1.7291457310574017', '0.6604010753506557', '1.1723105192525924', '1.99993860367887', '2.005914355434159', '3.82263439496221', '2.000834660948074', '0.6944512868198858', '1.1376399350913784', '0.2582193548623762', '0.1256887916684499', '1.176129045546379', '1.7685198700462994', '1.6798741851514134', '3.1836999750462396', '0.5162974100579127', '0.10629001533243697', '2.493078956456564', '0.5675141545873971', '0.8988519014161317', '1.333842052081957', '0.27592178353492713', '1.4794673376234488', '0.7653236751269832', '0.7981448611799643', '0.019855216481223847', '0.17685640882080425', '1.1924965832131085', '0.2654016663723707', '0.38463684778486557', '0.2527359514810922', '0.37187867339285424', '0.0038159375240494507', '0.3731060960528482', '0.7252821961572922', '0.06475883437636344', '0.5197012631592561', '1.1884672386676287', '0.6340431960718589', '0.2154432585635899', '0.9744032306464765', '0.5912770471443964', '1.0576028350132078', '1.078780043965973', '0.15895991289852116', '0.5503475667167458', '1.8215007024649124', '2.4138088681145544', '2.170763601190138', '1.53817111563783', '0.7816195603333967', '0.639186651220598', '1.176216671708814', '0.6705853346567278', '0.4685512002607973', '0.08346671194691947', '1.2393827545257212', '1.5978744436580075', '2.8033465630459165', '1.8154487909349124', '2.1405000007874553', '0.23727156588692216', '0.6746798665821824', '0.7040869234466665', '1.117876772818271', '2.07481356549404', '2.806758725393729', '1.528639813913194', '0.3321439091454527', '0.3768423387138061', '0.18237762744639668', '5.113409905147964', '1.426208022006813', '0.35564999640756584', '0.06550500492528037', '0.16588340114793745', '0.24706908567769525', '0.7845623128235549', '0.7534501655294341', '0.785479068419951', '0.5627011148242647', '1.6102758896362448', '1.8126226039843287', '1.0716466142435028', '2.7041837362800223', '1.849500803618278', '0.9112502510732694', '0.6369010592368196', '0.19387123626551528', '0.062222271838103735', '0.754691008249872', '0.9394636307439601', '3.650003650352352', '1.564544420616569', '1.2125575611312112', '0.9221643294149499', '0.3752481393610748', '1.8607703705379883', '0.0895797186603335', '1.3016657530815117', '0.302990851451143', '1.6309217806373557', '1.2932821234537588', '0.27615359448230364', '2.5905214103359087', '0.7851356306677029', '1.6221891355968137', '1.3764646181971274', '0.9689819829838733', '1.3923534410481477', '0.03945932208444652', '0.5856443354136679', '0.09439668221344415', '1.2954466443424206', '0.24698735158653068', '0.5492948444211908', '0.5723178423239774', '1.8354275973102165', '0.6626614870995136', '3.875079646247267', '0.5290287195253842', '0.23099435596779175', '1.7345492085725756', '0.608605490792811', '2.585470871700434', '0.05825044473800152', '0.8727691993898258', '1.0806909356733043', '0.9781687558801923', '0.6850701418624071', '1.777762118754739', '0.9307927078326989', '3.047887783936545', '3.012234979097874', '0.21778719373402153', '0.634445059934115', '0.1823348462638414', '0.11058577370206944', '1.868662201610426', '0.298221509570866', '1.2309180668444861', '0.14817350327873452', '1.8210137698389446', '0.27498063922866767', '1.2407033212646947', '0.2865768317449719', '0.09669283217917393', '2.794246054169317', '1.472766694809208', '1.533715861910687', '0.5257849944470748', '2.3490107086478087', '9.718762487533228e-05', '1.4461797830361818', '0.6205419492498929', '0.8963720803743506', '1.2828389450929158', '1.1397480884256173', '3.95029713439732', '1.0505569287377217', '0.19352744194067', '0.5318522216467547', '0.6336179939136822', '0.7694037476707274', '1.4358079917632736', '0.5089659397488182', '0.8130952414891128', '0.3967102835738423', '0.046084133174547535', '0.35231390678689734', '0.7729637203708379', '0.5491132602914981', '0.9937741679219024', '1.651774981125393', '0.1991519339066117', '1.288002652103419', '0.021681308865020236', '0.5270892121924468', '0.456013024747079', '0.29378920250168095', '0.0403557936437005', '1.0995304670137398', '0.18144458409701994', '0.4001892549888232', '1.2806174277790685', '0.5029556061050332', '4.069911892642181', '0.32983519870329053', '0.48892482009902494', '1.7819037596297589', '1.2696123858379982', '1.2399573172517397', '1.0270800549761812', '2.2266934159488136', '0.5988841023484835', '0.6689307629337181', '0.12134183132318206', '0.5385003442337581', '0.4675545765699896', '0.5378328313837589', '0.6647622709590594', '0.21109059037422262', '0.5966017493722181', '2.6870064169137864', '0.3948163798120486', '0.0889912172277872', '0.6083418261933182', '0.5306122561522107', '0.4444336406084216', '3.244258299864912', '0.8136141462320553', '0.5159630834057763', '0.4338317081636892', '0.7925361332824581', '0.6317704981890595', '0.4100884471434401', '0.576914310794863', '0.23717700336514388', '0.8609666884133708', '0.42415768581739166', '0.21402127655720418', '0.7738347814034016', '0.35461253882236893', '0.039150212383905966', '0.3888365602074877', '0.26304073552095725', '0.026236855668922015', '2.0758226886265096', '0.03197268362428373', '2.534400363771183', '1.1460717686984396', '0.032549732753558554', '0.1367964048110064']\n"
     ]
    },
    {
     "data": {
      "image/png": "[encoded data removed]",
      "text/plain": [
       "<Figure size 432x288 with 1 Axes>"
      ]
     },
     "metadata": {
      "needs_background": "light"
     },
     "output_type": "display_data"
    }
   ],
   "source": [
    "import csv\n",
    "import matplotlib.pyplot as plt\n",
    "\n",
    "allTheRanks = []\n",
    "\n",
    "for i in range(3):\n",
    "    with open('wallets'+str(i)+'.csv', 'r') as file:\n",
    "        reader = csv.reader(file, delimiter = ',')\n",
    "        \n",
    "        for row in reader:\n",
    "            allTheRanks = allTheRanks + row\n",
    "            \n",
    "#print(allTheRanks)\n",
    "plt.hist(allTheRanks, 200);"
   ]
  },
  {
   "cell_type": "code",
   "execution_count": null,
   "id": "39183c66",
   "metadata": {},
   "outputs": [],
   "source": []
  }
 ],
 "metadata": {
  "kernelspec": {
   "display_name": "Python 3 (ipykernel)",
   "language": "python",
   "name": "python3"
  },
  "language_info": {
   "codemirror_mode": {
    "name": "ipython",
    "version": 3
   },
   "file_extension": ".py",
   "mimetype": "text/x-python",
   "name": "python",
   "nbconvert_exporter": "python",
   "pygments_lexer": "ipython3",
   "version": "3.8.10"
  }
 },
 "nbformat": 4,
 "nbformat_minor": 5
}
