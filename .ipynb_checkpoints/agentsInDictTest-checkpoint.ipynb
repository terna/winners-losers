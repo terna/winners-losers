{
 "cells": [
  {
   "cell_type": "code",
   "execution_count": 6,
   "id": "ce3599ae",
   "metadata": {},
   "outputs": [],
   "source": [
    "class A():\n",
    "    def __init__(self,n):\n",
    "        self.n=n\n",
    "    def myN(self):\n",
    "        print(self.n)"
   ]
  },
  {
   "cell_type": "code",
   "execution_count": 16,
   "id": "52c46f85",
   "metadata": {},
   "outputs": [],
   "source": [
    "d={}"
   ]
  },
  {
   "cell_type": "code",
   "execution_count": 17,
   "id": "e68d03cd",
   "metadata": {},
   "outputs": [],
   "source": [
    "for i in range(3):\n",
    "    a=A(i)\n",
    "    d[i]=a"
   ]
  },
  {
   "cell_type": "code",
   "execution_count": 18,
   "id": "c9e32c85",
   "metadata": {},
   "outputs": [
    {
     "data": {
      "text/plain": [
       "3"
      ]
     },
     "execution_count": 18,
     "metadata": {},
     "output_type": "execute_result"
    }
   ],
   "source": [
    "len(d)"
   ]
  },
  {
   "cell_type": "code",
   "execution_count": 22,
   "id": "f31067a2",
   "metadata": {},
   "outputs": [
    {
     "name": "stdout",
     "output_type": "stream",
     "text": [
      "0\n",
      "1\n",
      "2\n"
     ]
    }
   ],
   "source": [
    "for i in range(len(d)):\n",
    "    d[i].myN()"
   ]
  },
  {
   "cell_type": "code",
   "execution_count": null,
   "id": "2af9ca5c",
   "metadata": {},
   "outputs": [],
   "source": []
  }
 ],
 "metadata": {
  "kernelspec": {
   "display_name": "Python 3 (ipykernel)",
   "language": "python",
   "name": "python3"
  },
  "language_info": {
   "codemirror_mode": {
    "name": "ipython",
    "version": 3
   },
   "file_extension": ".py",
   "mimetype": "text/x-python",
   "name": "python",
   "nbconvert_exporter": "python",
   "pygments_lexer": "ipython3",
   "version": "3.9.7"
  }
 },
 "nbformat": 4,
 "nbformat_minor": 5
}
