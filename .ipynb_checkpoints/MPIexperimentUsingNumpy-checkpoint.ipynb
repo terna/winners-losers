{
 "cells": [
  {
   "cell_type": "markdown",
   "id": "80827714",
   "metadata": {},
   "source": [
    "# MPIexperimentUsingNumpy\n",
    "\n",
    "## [MPI for Python](https://mpi4py.readthedocs.io/en/stable/tutorial.html#collective-communication)"
   ]
  },
  {
   "cell_type": "code",
   "execution_count": 2,
   "id": "6e23200f",
   "metadata": {},
   "outputs": [
    {
     "name": "stdout",
     "output_type": "stream",
     "text": [
      "Writing MPIexperimentUsingNumpy.py\n"
     ]
    }
   ],
   "source": [
    "%%writefile MPIexperimentUsingNumpy.py\n",
    "\n",
    "# MPIexperimentUsingNumpy.py"
   ]
  },
  {
   "cell_type": "code",
   "execution_count": null,
   "id": "34028f53",
   "metadata": {},
   "outputs": [],
   "source": [
    "# R U N\n",
    "! mpirun -n 3 python3 MPIexperimentUsingNumpy.py"
   ]
  }
 ],
 "metadata": {
  "kernelspec": {
   "display_name": "Python 3 (ipykernel)",
   "language": "python",
   "name": "python3"
  },
  "language_info": {
   "codemirror_mode": {
    "name": "ipython",
    "version": 3
   },
   "file_extension": ".py",
   "mimetype": "text/x-python",
   "name": "python",
   "nbconvert_exporter": "python",
   "pygments_lexer": "ipython3",
   "version": "3.9.7"
  }
 },
 "nbformat": 4,
 "nbformat_minor": 5
}
