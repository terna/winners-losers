{
 "cells": [
  {
   "cell_type": "markdown",
   "id": "458dbe83",
   "metadata": {},
   "source": [
    "# MPIexperimentUsingNumpy\n",
    "\n",
    "## [MPI for Python](https://mpi4py.readthedocs.io/en/stable/tutorial.html#collective-communication)\n",
    "\n",
    "\n",
    "SEE ALSO [Parallel Programming for Science and Engineering](https://web.corral.tacc.utexas.edu/CompEdu/pdf/pcse/EijkhoutParallelProgramming.pdf) from second \"! Tip\" in \"MPI for Python\" above\n",
    "\n",
    "about **Bcast** see also https://www.open-mpi.org/doc/v4.1/man3/MPI_Bcast.3.php with \"Broadcasts a message from the process with rank root to all other processes of the group.\"\n"
   ]
  },
  {
   "cell_type": "code",
   "execution_count": 1,
   "id": "056d01ec",
   "metadata": {},
   "outputs": [
    {
     "data": {
      "application/javascript": [
       "// to avoid scroll in windows\n",
       "IPython.OutputArea.prototype._should_scroll = function(lines) {\n",
       "    return false;\n",
       "}\n"
      ],
      "text/plain": [
       "<IPython.core.display.Javascript object>"
      ]
     },
     "metadata": {},
     "output_type": "display_data"
    }
   ],
   "source": [
    "%%javascript\n",
    "// to avoid scroll in windows\n",
    "IPython.OutputArea.prototype._should_scroll = function(lines) {\n",
    "    return false;\n",
    "}"
   ]
  },
  {
   "cell_type": "code",
   "execution_count": 2,
   "id": "6e663a69",
   "metadata": {
    "scrolled": true
   },
   "outputs": [
    {
     "name": "stdout",
     "output_type": "stream",
     "text": [
      "Overwriting MPIexperimentUsingNumpy.py\n"
     ]
    }
   ],
   "source": [
    "%%writefile MPIexperimentUsingNumpy.py\n",
    "\n",
    "# https://mpi4py.readthedocs.io/en/stable/tutorial.html#collective-communication \"Broadcasting a NumPy array\"\n",
    "\n",
    "from mpi4py import MPI\n",
    "import numpy as np\n",
    "import time\n",
    "\n",
    "comm = MPI.COMM_WORLD\n",
    "rank = comm.Get_rank()\n",
    "rankNum=comm.Get_size()\n",
    "\n",
    "data=[0]*rankNum\n",
    "\n",
    "for k in range(rankNum):\n",
    "    \n",
    "    if rank == k:\n",
    "        data[k]=np.array([np.arange(10*k+1,10*k+11),[k]*10] ,dtype='f')\n",
    "    else:\n",
    "        data[k]=np.empty([2,10],dtype='f')\n",
    "\n",
    "    comm.Bcast(data[k], root=k)\n",
    "    \n",
    "    print(time.time(),\"rank\", rank,\"\\n\",data[k],flush=True)"
   ]
  },
  {
   "cell_type": "code",
   "execution_count": 3,
   "id": "880200ce",
   "metadata": {
    "scrolled": true
   },
   "outputs": [
    {
     "name": "stdout",
     "output_type": "stream",
     "text": [
      "1663600440.436207 rank 0 \r\n",
      " [[ 1.  2.  3.  4.  5.  6.  7.  8.  9. 10.]\r\n",
      " [ 0.  0.  0.  0.  0.  0.  0.  0.  0.  0.]]\r\n",
      "1663600440.43623 rank 1 \r\n",
      " [[ 1.  2.  3.  4.  5.  6.  7.  8.  9. 10.]\r\n",
      " [ 0.  0.  0.  0.  0.  0.  0.  0.  0.  0.]]\r\n",
      "1663600440.436247 rank 2 \r\n",
      " [[ 1.  2.  3.  4.  5.  6.  7.  8.  9. 10.]\r\n",
      " [ 0.  0.  0.  0.  0.  0.  0.  0.  0.  0.]]\r\n",
      "1663600440.43711 rank 0 \r\n",
      " [[11. 12. 13. 14. 15. 16. 17. 18. 19. 20.]\r\n",
      " [ 1.  1.  1.  1.  1.  1.  1.  1.  1.  1.]]\r\n",
      "1663600440.4371169 rank 1 \r\n",
      " [[11. 12. 13. 14. 15. 16. 17. 18. 19. 20.]\r\n",
      " [ 1.  1.  1.  1.  1.  1.  1.  1.  1.  1.]]\r\n",
      "1663600440.4406772 rank 2 \r\n",
      " [[11. 12. 13. 14. 15. 16. 17. 18. 19. 20.]\r\n",
      " [ 1.  1.  1.  1.  1.  1.  1.  1.  1.  1.]]\r\n",
      "1663600440.441906 rank 2 \r\n",
      " [[21. 22. 23. 24. 25. 26. 27. 28. 29. 30.]\r\n",
      " [ 2.  2.  2.  2.  2.  2.  2.  2.  2.  2.]]\r\n",
      "1663600440.441909 rank 0 \r\n",
      " [[21. 22. 23. 24. 25. 26. 27. 28. 29. 30.]\r\n",
      " [ 2.  2.  2.  2.  2.  2.  2.  2.  2.  2.]]\r\n",
      "1663600440.441919 rank 1 \r\n",
      " [[21. 22. 23. 24. 25. 26. 27. 28. 29. 30.]\r\n",
      " [ 2.  2.  2.  2.  2.  2.  2.  2.  2.  2.]]\r\n"
     ]
    }
   ],
   "source": [
    "# R U N\n",
    "! mpirun -n 3 python3 MPIexperimentUsingNumpy.py"
   ]
  }
 ],
 "metadata": {
  "kernelspec": {
   "display_name": "Python 3 (ipykernel)",
   "language": "python",
   "name": "python3"
  },
  "language_info": {
   "codemirror_mode": {
    "name": "ipython",
    "version": 3
   },
   "file_extension": ".py",
   "mimetype": "text/x-python",
   "name": "python",
   "nbconvert_exporter": "python",
   "pygments_lexer": "ipython3",
   "version": "3.9.7"
  }
 },
 "nbformat": 4,
 "nbformat_minor": 5
}
