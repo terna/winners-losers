{
 "cells": [
  {
   "cell_type": "code",
   "execution_count": 1,
   "id": "dce639f7",
   "metadata": {},
   "outputs": [],
   "source": [
    "import random\n",
    "import matplotlib.pyplot as plt"
   ]
  },
  {
   "cell_type": "code",
   "execution_count": 2,
   "id": "0bdb4152",
   "metadata": {},
   "outputs": [],
   "source": [
    "random.seed(123)"
   ]
  },
  {
   "cell_type": "code",
   "execution_count": 3,
   "id": "64dbb2a8",
   "metadata": {},
   "outputs": [],
   "source": [
    "N=1000"
   ]
  },
  {
   "cell_type": "code",
   "execution_count": 4,
   "id": "5a805563",
   "metadata": {},
   "outputs": [],
   "source": [
    "v=[1]*N"
   ]
  },
  {
   "cell_type": "code",
   "execution_count": 5,
   "id": "9b73fd8e",
   "metadata": {},
   "outputs": [],
   "source": [
    "for i in range (1000000):\n",
    "    a=random.randrange(N)\n",
    "    b=random.randrange(N)\n",
    "\n",
    "    tot=v[a]+v[b]\n",
    "\n",
    "    q=random.random()\n",
    "\n",
    "    v[a]=q*tot\n",
    "\n",
    "    v[b]=(1-q)*tot"
   ]
  },
  {
   "cell_type": "raw",
   "id": "fbb08920",
   "metadata": {},
   "source": [
    "v"
   ]
  },
  {
   "cell_type": "code",
   "execution_count": 6,
   "id": "d06edad9",
   "metadata": {},
   "outputs": [
    {
     "data": {
      "image/png": "[encoded data removed]",
      "text/plain": [
       "<Figure size 432x288 with 1 Axes>"
      ]
     },
     "metadata": {
      "needs_background": "light"
     },
     "output_type": "display_data"
    }
   ],
   "source": [
    "plt.hist(v,20);"
   ]
  },
  {
   "cell_type": "code",
   "execution_count": null,
   "id": "db836e4a",
   "metadata": {},
   "outputs": [],
   "source": []
  }
 ],
 "metadata": {
  "kernelspec": {
   "display_name": "Python 3 (ipykernel)",
   "language": "python",
   "name": "python3"
  },
  "language_info": {
   "codemirror_mode": {
    "name": "ipython",
    "version": 3
   },
   "file_extension": ".py",
   "mimetype": "text/x-python",
   "name": "python",
   "nbconvert_exporter": "python",
   "pygments_lexer": "ipython3",
   "version": "3.9.7"
  }
 },
 "nbformat": 4,
 "nbformat_minor": 5
}
