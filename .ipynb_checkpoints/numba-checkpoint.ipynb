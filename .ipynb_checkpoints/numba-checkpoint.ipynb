{
 "cells": [
  {
   "cell_type": "markdown",
   "id": "58398cf2",
   "metadata": {},
   "source": [
    "https://towardsdatascience.com/this-decorator-will-make-python-30-times-faster-715ca5a66d5f"
   ]
  },
  {
   "cell_type": "code",
   "execution_count": 1,
   "id": "ceecb5cd",
   "metadata": {},
   "outputs": [],
   "source": [
    "import random\n",
    "\n",
    "# import njit from numba\n",
    "from numba import njit\n",
    "\n",
    "\n",
    "def monte_carlo_pi_without_numba(nsamples):\n",
    "    acc = 0\n",
    "    for i in range(nsamples):\n",
    "        x = random.random()\n",
    "        y = random.random()\n",
    "        if (x ** 2 + y ** 2) < 1.0:\n",
    "            acc += 1\n",
    "    return 4.0 * acc / nsamples\n",
    "\n",
    "# Add numba's decorator to make the function faster\n",
    "@njit\n",
    "def monte_carlo_pi_with_numba(nsamples):\n",
    "    acc = 0\n",
    "    for i in range(nsamples):\n",
    "        x = random.random()\n",
    "        y = random.random()\n",
    "        if (x ** 2 + y ** 2) < 1.0:\n",
    "            acc += 1\n",
    "    return 4.0 * acc / nsamples"
   ]
  },
  {
   "cell_type": "code",
   "execution_count": 6,
   "id": "a3af6304",
   "metadata": {},
   "outputs": [
    {
     "name": "stdout",
     "output_type": "stream",
     "text": [
      "65.4 ms ± 11.3 ms per loop (mean ± std. dev. of 7 runs, 10 loops each)\n"
     ]
    }
   ],
   "source": [
    "%timeit monte_carlo_pi_without_numba(100000)"
   ]
  },
  {
   "cell_type": "code",
   "execution_count": 7,
   "id": "33414729",
   "metadata": {},
   "outputs": [
    {
     "name": "stdout",
     "output_type": "stream",
     "text": [
      "1.86 ms ± 251 µs per loop (mean ± std. dev. of 7 runs, 1,000 loops each)\n"
     ]
    }
   ],
   "source": [
    "%timeit monte_carlo_pi_with_numba(100000)"
   ]
  },
  {
   "cell_type": "code",
   "execution_count": null,
   "id": "d28456b6",
   "metadata": {},
   "outputs": [],
   "source": []
  }
 ],
 "metadata": {
  "kernelspec": {
   "display_name": "Python 3 (ipykernel)",
   "language": "python",
   "name": "python3"
  },
  "language_info": {
   "codemirror_mode": {
    "name": "ipython",
    "version": 3
   },
   "file_extension": ".py",
   "mimetype": "text/x-python",
   "name": "python",
   "nbconvert_exporter": "python",
   "pygments_lexer": "ipython3",
   "version": "3.9.7"
  }
 },
 "nbformat": 4,
 "nbformat_minor": 5
}
