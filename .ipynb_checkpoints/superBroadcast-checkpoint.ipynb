{
 "cells": [
  {
   "cell_type": "code",
   "execution_count": 1,
   "id": "d423efff",
   "metadata": {},
   "outputs": [
    {
     "name": "stdout",
     "output_type": "stream",
     "text": [
      "Overwriting superBroadcast.py\n"
     ]
    }
   ],
   "source": [
    "%%writefile superBroadcast.py\n",
    "\n",
    "from mpi4py import MPI\n",
    "import numpy as np\n",
    "import json\n",
    "\n",
    "comm = MPI.COMM_WORLD\n",
    "rank = comm.Get_rank()\n",
    "rankNum = comm.Get_size()\n",
    "\n",
    "print(\"\\n\"+str(rank)+\"/\"+str(rankNum))\n",
    "\n",
    "if rank==0:        # example [0,[0,((0,0,1),1)],[1,((0,1,0),0)],[2]] with rankNum => 3\n",
    "    mToBcast=[0,[0,((0,0,1),1)],\n",
    "            [1,((0,1,0),0)]]\n",
    "    for k in range(2,rankNum):\n",
    "        mToBcast.append([k])\n",
    "    #print(mBcast)\n",
    "\n",
    "if rank!=0:        # example [1|2,[0],[1],[2]] with rankNum -> 3\n",
    "    mToBcast=[rank]\n",
    "    for k in range(rankNum):\n",
    "        mToBcast.append([k])\n",
    "    #print(mBcast)\n",
    "    \n",
    "mToBcast=json.dumps(mToBcast)\n",
    "mToBcast=np.array(mToBcast, dtype='S50')\n",
    "mToBcast=mToBcast.tobytes()\n",
    "print( \"before bcast\", rank, mToBcast)\n",
    "\n",
    "data=[\"\"]*rankNum\n",
    "for k in range(rankNum):\n",
    "    if rank == k:\n",
    "        data[k] = mToBcast\n",
    "    else:\n",
    "        data[k] = bytearray(50)\n",
    "for k in range(rankNum):\n",
    "    comm.Bcast(data[k], root=k)\n",
    "\n",
    "for k in range(rankNum):\n",
    "    data[k]=data[k].decode().rstrip('\\x00')\n",
    "\n",
    "for k in range(rankNum):\n",
    "    data[k]=json.loads(data[k])\n",
    "\n",
    "print(\"\\nafter bcast\", rank, data)\n",
    "\n",
    "    \n"
   ]
  },
  {
   "cell_type": "code",
   "execution_count": 2,
   "id": "f5992187",
   "metadata": {},
   "outputs": [
    {
     "name": "stdout",
     "output_type": "stream",
     "text": [
      "\r\n",
      "0/3\r\n",
      "before bcast 0 b'[0, [0, [[0, 0, 1], 1]], [1, [[0, 1, 0], 0]], [2]]'\r\n",
      "\r\n",
      "after bcastIII 0 [[0, [0, [[0, 0, 1], 1]], [1, [[0, 1, 0], 0]], [2]], [1, [0], [1], [2]], [2, [0], [1], [2]]]\r\n",
      "\r\n",
      "1/3\r\n",
      "before bcast 1 b'[1, [0], [1], [2]]\\x00\\x00\\x00\\x00\\x00\\x00\\x00\\x00\\x00\\x00\\x00\\x00\\x00\\x00\\x00\\x00\\x00\\x00\\x00\\x00\\x00\\x00\\x00\\x00\\x00\\x00\\x00\\x00\\x00\\x00\\x00\\x00'\r\n",
      "\r\n",
      "after bcastIII 1 [[0, [0, [[0, 0, 1], 1]], [1, [[0, 1, 0], 0]], [2]], [1, [0], [1], [2]], [2, [0], [1], [2]]]\r\n",
      "\r\n",
      "2/3\r\n",
      "before bcast 2 b'[2, [0], [1], [2]]\\x00\\x00\\x00\\x00\\x00\\x00\\x00\\x00\\x00\\x00\\x00\\x00\\x00\\x00\\x00\\x00\\x00\\x00\\x00\\x00\\x00\\x00\\x00\\x00\\x00\\x00\\x00\\x00\\x00\\x00\\x00\\x00'\r\n",
      "\r\n",
      "after bcastIII 2 [[0, [0, [[0, 0, 1], 1]], [1, [[0, 1, 0], 0]], [2]], [1, [0], [1], [2]], [2, [0], [1], [2]]]\r\n"
     ]
    }
   ],
   "source": [
    "! mpirun -n 3 python3 superBroadcast.py"
   ]
  },
  {
   "cell_type": "code",
   "execution_count": null,
   "id": "3f13abb6",
   "metadata": {},
   "outputs": [],
   "source": []
  }
 ],
 "metadata": {
  "kernelspec": {
   "display_name": "Python 3 (ipykernel)",
   "language": "python",
   "name": "python3"
  },
  "language_info": {
   "codemirror_mode": {
    "name": "ipython",
    "version": 3
   },
   "file_extension": ".py",
   "mimetype": "text/x-python",
   "name": "python",
   "nbconvert_exporter": "python",
   "pygments_lexer": "ipython3",
   "version": "3.9.7"
  }
 },
 "nbformat": 4,
 "nbformat_minor": 5
}
