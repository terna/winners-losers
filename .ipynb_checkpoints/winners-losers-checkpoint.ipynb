{
 "cells": [
  {
   "cell_type": "markdown",
   "id": "61150b25",
   "metadata": {},
   "source": [
    "## [Repast for Python (Repast4Py) User Guide](https://repast.github.io/repast4py.site/guide/user_guide.html)\n",
    "\n",
    "## [API](https://repast.github.io/repast4py.site/apidoc/index.html)\n",
    "\n",
    "## [GitHub Repast/repast4py](https://github.com/Repast/repast4py)\n",
    "\n",
    "## [MPI for Python](https://mpi4py.readthedocs.io/en/stable/tutorial.html#collective-communication)"
   ]
  },
  {
   "cell_type": "markdown",
   "id": "80bbce5a",
   "metadata": {},
   "source": [
    "# An idea for the initial example: \n",
    "\n",
    "### something close to the [Chakraborti model](https://www.scientificamerican.com/article/is-inequality-inevitable/) of Winners, Losers \n",
    "\n",
    "ESC L set or unset row numbers"
   ]
  },
  {
   "cell_type": "markdown",
   "id": "404974ee",
   "metadata": {},
   "source": [
    "## 0\n",
    "\n",
    "program starter"
   ]
  },
  {
   "cell_type": "code",
   "execution_count": 1,
   "id": "b6675d66",
   "metadata": {},
   "outputs": [
    {
     "name": "stdout",
     "output_type": "stream",
     "text": [
      "Overwriting starter.py\n"
     ]
    }
   ],
   "source": [
    "%%writefile starter.py\n",
    "\n",
    "from repast4py import parameters\n",
    "from runMod import *\n",
    "\n",
    "# https://repast.github.io/repast4py.site/apidoc/source/repast4py.parameters.html\n",
    "\"\"\"\n",
    "create_args_parser()\n",
    "Creates an argparse parser with two arguments: \n",
    "1) a yaml format file containing model parameter input, and \n",
    "2) an optional json dictionary string that can override that input.\n",
    "\"\"\"\n",
    "parser = parameters.create_args_parser()\n",
    "\n",
    "args = parser.parse_args()\n",
    "#print(1,args,flush=True)\n",
    "\n",
    "\"\"\"\n",
    "init_params(parameters_file, parameters)\n",
    "Initializes the repast4py.parameters.params dictionary with the model input parameters.\n",
    "\"\"\"\n",
    "params = parameters.init_params(args.parameters_file, args.parameters)\n",
    "#print(2,params,flush=True)\n",
    "\n",
    "run(params)"
   ]
  },
  {
   "cell_type": "markdown",
   "id": "7b4ee2c8",
   "metadata": {},
   "source": [
    "## 1 \n",
    "\n",
    "run the model"
   ]
  },
  {
   "cell_type": "code",
   "execution_count": 2,
   "id": "42356c89",
   "metadata": {},
   "outputs": [
    {
     "name": "stdout",
     "output_type": "stream",
     "text": [
      "Overwriting runMod.py\n"
     ]
    }
   ],
   "source": [
    "%%writefile runMod.py\n",
    "\n",
    "from typing import Dict\n",
    "from model import *\n",
    "\n",
    "def run(params: Dict):\n",
    "    #print(3, params)\n",
    "    #print (4, params['random.seed'])\n",
    "    #print (4.1, params['a'])\n",
    "    \n",
    "    model = Model(MPI.COMM_WORLD, params)\n",
    "    model.start()"
   ]
  },
  {
   "cell_type": "markdown",
   "id": "2a07a342",
   "metadata": {},
   "source": [
    "## 2\n",
    "\n",
    "agent definition"
   ]
  },
  {
   "cell_type": "code",
   "execution_count": 3,
   "id": "a3dbd4a5",
   "metadata": {},
   "outputs": [
    {
     "name": "stdout",
     "output_type": "stream",
     "text": [
      "Overwriting WinnerLoser.py\n"
     ]
    }
   ],
   "source": [
    "%%writefile WinnerLoser.py\n",
    "\n",
    "from repast4py import core\n",
    "\n",
    "class WinnerLoser(core.Agent):\n",
    "\n",
    "    TYPE = 0\n",
    "    \n",
    "    def __init__(self, local_id: int, rank: int, wallet: float):\n",
    "        super().__init__(id=local_id, type=WinnerLoser.TYPE, rank=rank)\n",
    "        self.myWallet = wallet\n"
   ]
  },
  {
   "cell_type": "markdown",
   "id": "eea35022",
   "metadata": {},
   "source": [
    "## 3\n",
    "\n",
    "the model"
   ]
  },
  {
   "cell_type": "code",
   "execution_count": 4,
   "id": "3ef35b50",
   "metadata": {},
   "outputs": [
    {
     "name": "stdout",
     "output_type": "stream",
     "text": [
      "Overwriting model.py\n"
     ]
    }
   ],
   "source": [
    "%%writefile model.py\n",
    "\n",
    "from mpi4py import MPI\n",
    "from typing import Dict\n",
    "from repast4py import schedule\n",
    "from repast4py import context as ctx\n",
    "import repast4py\n",
    "import time\n",
    "\"\"\"\n",
    "time() -> floating point number\n",
    "        Return the current time in seconds since the Epoch.\n",
    "        Fractions of a second may be present if the system clock provides them.\n",
    "to know the Epoch, time.gmtime(0) (in Unix: 19700101)\n",
    "\"\"\"\n",
    "from WinnerLoser import *\n",
    "\n",
    "class Model:\n",
    "    \"\"\"\n",
    "    The Model class encapsulates the simulation, and is\n",
    "    responsible for initialization (scheduling events, creating agents,\n",
    "    and the grid the agents inhabit IF ANY), and the overall iterating\n",
    "    behavior of the model.\n",
    "\n",
    "    Args:\n",
    "        comm: the mpi communicator over which the model is distributed.\n",
    "        params: the simulation input parameters\n",
    "    \"\"\"\n",
    "    def __init__(self, comm: MPI.Intracomm, params: Dict):\n",
    "\n",
    "        self.rank    = comm.Get_rank()\n",
    "        self.rankNum = comm.Get_size() #pt\n",
    "        \n",
    "        #print(5, \"rank\", self.rank, \"rank number\", self.rankNum)\n",
    "        \n",
    "        \n",
    "        # create the context to hold the agents and manage cross process\n",
    "        # synchronization\n",
    "        self.context = ctx.SharedContext(comm)\n",
    "        \n",
    "        # create the schedule\n",
    "        # https://repast.github.io/repast4py.site/apidoc/source/repast4py.schedule.html\n",
    "        \n",
    "        self.countStep=-1\n",
    "        \n",
    "        \"\"\"\n",
    "        init_schedule_runner(comm)\n",
    "        Initializes the default schedule runner, a dynamic schedule of executable \n",
    "        events shared and synchronized across processes.\n",
    "        Events are added to the scheduled for execution at a particular tick. \n",
    "        The first valid tick is 0. Events will be executed in tick order, earliest \n",
    "        before latest. Events scheduled for the same tick will be executed in the \n",
    "        order in which they were added. If during the execution of a tick, \n",
    "        an event is scheduled before the executing tick (i.e., scheduled to occur in \n",
    "        the past) then that event is ignored. The scheduled is synchronized across \n",
    "        process ranks by determining the global cross-process minimum next scheduled \n",
    "        event time, and executing only the events schedule for that time. In this way, \n",
    "        no schedule runs ahead of any other.\n",
    "        \"\"\"\n",
    "        self.runner = schedule.init_schedule_runner(comm)\n",
    "        \n",
    "        \"\"\"\n",
    "        schedule_repeating_event(at, interval, evt)\n",
    "        Schedules the specified event to execute at the specified tick, and repeat at \n",
    "        the specified interval.\n",
    "\n",
    "        Parameters\n",
    "        at (float) – the time of the event.\n",
    "        interval (float) – the interval at which to repeat event execution.\n",
    "        evt (Callable) – the Callable to execute when the event occurs.\n",
    "\n",
    "            A callable is anything that can be called.\n",
    "            The built-in callable (PyCallable_Check in objects.c) checks if the argument \n",
    "            is either:\n",
    "                an instance of a class with a __call__ method or\n",
    "                is of a type that has a non null tp_call (c struct) member which \n",
    "                indicates callability otherwise (such as in functions, methods etc.)\n",
    "        \"\"\"\n",
    "        self.runner.schedule_repeating_event(0, 1, self.step)\n",
    "        \n",
    "        \"\"\"\n",
    "        schedule_stop(at)\n",
    "        Schedules the execution of this schedule to stop at the specified tick.\n",
    "\n",
    "        Parameters\n",
    "        at (float) – the tick at which the schedule will stop.\n",
    "        \"\"\"\n",
    "        self.runner.schedule_stop(params['stop.at'])\n",
    "        \n",
    "        self.runner.schedule_end_event(self.finish)\n",
    "        \n",
    "\n",
    "        \n",
    "        # create agents\n",
    "        \n",
    "        # https://repast.github.io/repast4py.site/apidoc/source/repast4py.random.html\n",
    "        \"\"\"\n",
    "        Random numbers for repast4py. When this module is imported, repast4py.random.default_rng \n",
    "        is created using the current epoch time as the random seed, and repast4py.random.seed is \n",
    "        set to that value. \n",
    "        \n",
    "        repast4py.random.init(rng_seed=None)\n",
    "        Initializes the default random number generator using the specified seed.\n",
    "        \"\"\"\n",
    "        rng = repast4py.random.default_rng  #da capire & seed qui?\n",
    "        \n",
    "        \n",
    "        for i in range(params['WinnerLoser.count'] // self.rankNum): #to subdivide the total #pt\n",
    "            # create and add the agent to the context\n",
    "            aWallet=100 * rng.random()\n",
    "            #print(aWallet,flush=True)\n",
    "            winnerLoser = WinnerLoser(i,self.rank,aWallet)\n",
    "            self.context.add(winnerLoser)\n",
    "            \n",
    "        #print(6, \"agents in rank\",self.rank, \"=\", len(self.context.agents(0, \\\n",
    "        #                                              shuffle=True)),flush=True)\n",
    "        \n",
    "    def step(self):\n",
    "        \n",
    "        \"\"\"\n",
    "        synchronize(restore_agent, sync_ghosts=True)\n",
    "        Synchronizes the model state across processes by moving agents, \n",
    "        filling projection buffers with ghosts, updating ghosted state and so forth.\n",
    "\n",
    "        Parameters\n",
    "        restore_agent (Callable) – a callable that takes agent state data and \n",
    "        returns an agent instance from that data. The data is a tuple whose first \n",
    "        element is the agent’s unique id tuple, and the second element is the \n",
    "        agent’s state, as returned by that agent’s type’s save() method.\n",
    "\n",
    "        sync_ghosts (bool) – if True, the ghosts in any SharedProjections and \n",
    "        value layers associated with this SharedContext are also synchronized. \n",
    "        Defaults to True.\n",
    "        \"\"\"\n",
    "        self.context.synchronize(self.fake)  # assures more regular steps of\n",
    "                                             # cyclea among ranks??\n",
    "        \n",
    "        self.countStep+=1\n",
    "        \n",
    "        tick = self.runner.schedule.tick\n",
    "        \n",
    "        print(\"rank\",self.rank,\"step\",self.countStep,\"in tick\",tick,\\\n",
    "              \"clock\",time.time(),flush=True)\n",
    "        \n",
    "    def fake(self):\n",
    "        pass\n",
    "    \n",
    "    def finish(self):\n",
    "        tick = self.runner.schedule.tick\n",
    "        print(\"ciao by rank\",self.rank,\"step\",self.countStep,\"in tick\",tick,\\\n",
    "              \"clock\",time.time(),flush=True)\n",
    "        \n",
    "    def start(self):\n",
    "        self.runner.execute()\n",
    "        "
   ]
  },
  {
   "cell_type": "markdown",
   "id": "686ef2b5",
   "metadata": {},
   "source": [
    "# Execution"
   ]
  },
  {
   "cell_type": "code",
   "execution_count": 5,
   "id": "368559de",
   "metadata": {},
   "outputs": [
    {
     "name": "stdout",
     "output_type": "stream",
     "text": [
      "rank 0 step 0 in tick 0 clock 1663681671.7793012\r\n",
      "rank 1 step 0 in tick 0 clock 1663681671.7793138\r\n",
      "rank 2 step 0 in tick 0 clock 1663681671.779318\r\n",
      "rank 0 step 1 in tick 1 clock 1663681671.7796118\r\n",
      "rank 2 step 1 in tick 1 clock 1663681671.779636\r\n",
      "rank 1 step 1 in tick 1 clock 1663681671.779634\r\n",
      "rank 0 step 2 in tick 2 clock 1663681671.779809\r\n",
      "rank 2 step 2 in tick 2 clock 1663681671.779823\r\n",
      "rank 1 step 2 in tick 2 clock 1663681671.77983\r\n",
      "rank 0 step 3 in tick 3 clock 1663681671.7800808\r\n",
      "rank 1 step 3 in tick 3 clock 1663681671.78009\r\n",
      "rank 2 step 3 in tick 3 clock 1663681671.780096\r\n",
      "rank 0 step 4 in tick 4 clock 1663681671.7802398\r\n",
      "rank 2 step 4 in tick 4 clock 1663681671.780254\r\n",
      "rank 1 step 4 in tick 4 clock 1663681671.78026\r\n",
      "rank 0 step 5 in tick 5 clock 1663681671.780433\r\n",
      "rank 1 step 5 in tick 5 clock 1663681671.780451\r\n",
      "rank 2 step 5 in tick 5 clock 1663681671.780454\r\n",
      "rank 0 step 6 in tick 6 clock 1663681671.780591\r\n",
      "rank 1 step 6 in tick 6 clock 1663681671.780606\r\n",
      "rank 2 step 6 in tick 6 clock 1663681671.780606\r\n",
      "rank 0 step 7 in tick 7 clock 1663681671.780875\r\n",
      "rank 1 step 7 in tick 7 clock 1663681671.780886\r\n",
      "rank 2 step 7 in tick 7 clock 1663681671.781\r\n",
      "rank 0 step 8 in tick 8 clock 1663681671.781207\r\n",
      "rank 1 step 8 in tick 8 clock 1663681671.7812219\r\n",
      "rank 2 step 8 in tick 8 clock 1663681671.781366\r\n",
      "rank 0 step 9 in tick 9 clock 1663681671.781537\r\n",
      "rank 1 step 9 in tick 9 clock 1663681671.781554\r\n",
      "rank 2 step 9 in tick 9 clock 1663681671.7815459\r\n",
      "rank 0 step 10 in tick 10 clock 1663681671.78177\r\n",
      "rank 1 step 10 in tick 10 clock 1663681671.781821\r\n",
      "ciao by rank 0 step 10 in tick 10 clock 1663681671.781803\r\n",
      "ciao by rank 1 step 10 in tick 10 clock 1663681671.781885\r\n",
      "rank 2 step 10 in tick 10 clock 1663681671.781903\r\n",
      "ciao by rank 2 step 10 in tick 10 clock 1663681671.781937\r\n"
     ]
    }
   ],
   "source": [
    "# R U N\n",
    "# %sx mpirun -n 1 python3 starter.py winners-losers.yaml\n",
    "! mpirun -n 3 python3 starter.py winners-losers.yaml\n",
    "# %sx mpirun -n 1 python3 starter.py winners-losers.yaml '{\"a\": 123,\"random.seed\": 1000}'"
   ]
  },
  {
   "cell_type": "code",
   "execution_count": null,
   "id": "52c90414",
   "metadata": {},
   "outputs": [],
   "source": []
  }
 ],
 "metadata": {
  "kernelspec": {
   "display_name": "Python 3 (ipykernel)",
   "language": "python",
   "name": "python3"
  },
  "language_info": {
   "codemirror_mode": {
    "name": "ipython",
    "version": 3
   },
   "file_extension": ".py",
   "mimetype": "text/x-python",
   "name": "python",
   "nbconvert_exporter": "python",
   "pygments_lexer": "ipython3",
   "version": "3.9.7"
  }
 },
 "nbformat": 4,
 "nbformat_minor": 5
}
