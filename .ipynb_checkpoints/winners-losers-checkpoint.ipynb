{
 "cells": [
  {
   "cell_type": "markdown",
   "id": "61150b25",
   "metadata": {},
   "source": [
    "# Winners-Losers\n",
    "\n",
    "\n",
    "## [Repast for Python (Repast4Py) User Guide](https://repast.github.io/repast4py.site/guide/user_guide.html)\n",
    "\n",
    "## [API](https://repast.github.io/repast4py.site/apidoc/index.html)\n",
    "\n",
    "## [GitHub Repast/repast4py](https://github.com/Repast/repast4py)\n",
    "\n",
    "## [MPI for Python](https://mpi4py.readthedocs.io/en/stable/tutorial.html#collective-communication)\n"
   ]
  },
  {
   "cell_type": "raw",
   "id": "2a9495d9",
   "metadata": {},
   "source": [
    "# activate to read notes\n",
    "from IPython.display import IFrame, display\n",
    "filepath = \"ghosts.pdf\"\n",
    "IFrame(filepath, width=800, height=800)"
   ]
  },
  {
   "cell_type": "markdown",
   "id": "80bbce5a",
   "metadata": {},
   "source": [
    "# An idea for the initial example: \n",
    "\n",
    "### something close to the *Chakraborti model* in \"Winners, Losers\" ex. in [Is Inequality Inevitable? (Sc.Am.)](https://www.scientificamerican.com/article/is-inequality-inevitable/). In a closer way, § 2.1 in [Chakraborti, A. (2002). Distributions of money in model markets of economy. International Journal of Modern Physics C, 13(10), 1315-1321](https://arxiv.org/pdf/cond-mat/0205221.pdf). \n",
    "\n",
    "ESC $\\ell$ set or unset row numbers\n",
    "\n",
    "(The script in next cell avoids scrolling outputs)"
   ]
  },
  {
   "cell_type": "code",
   "execution_count": 1,
   "id": "fc6c8e5d",
   "metadata": {},
   "outputs": [
    {
     "data": {
      "application/javascript": [
       "// to avoid scroll in windows\n",
       "IPython.OutputArea.prototype._should_scroll = function(lines) {\n",
       "    return false;\n",
       "}\n"
      ],
      "text/plain": [
       "<IPython.core.display.Javascript object>"
      ]
     },
     "metadata": {},
     "output_type": "display_data"
    }
   ],
   "source": [
    "%%javascript\n",
    "// to avoid scroll in windows\n",
    "IPython.OutputArea.prototype._should_scroll = function(lines) {\n",
    "    return false;\n",
    "}"
   ]
  },
  {
   "cell_type": "markdown",
   "id": "eecbf48d",
   "metadata": {},
   "source": [
    "## -2\n",
    "\n",
    "MPI and context for everywhere"
   ]
  },
  {
   "cell_type": "code",
   "execution_count": 2,
   "id": "daaf6a43",
   "metadata": {},
   "outputs": [
    {
     "name": "stdout",
     "output_type": "stream",
     "text": [
      "Overwriting MPIandContext.py\n"
     ]
    }
   ],
   "source": [
    "%%writefile MPIandContext.py\n",
    "\n",
    "import time\n",
    "from mpi4py import MPI\n",
    "from repast4py import context as ctx\n",
    "import repast4py \n",
    "from repast4py import parameters\n",
    "from repast4py import schedule\n",
    "\n",
    "# simple debug\n",
    "from icecream import ic\n",
    "\n",
    "comm = MPI.COMM_WORLD\n",
    "rank    = comm.Get_rank()\n",
    "rankNum = comm.Get_size() #pt\n",
    "\n",
    "# create the context to hold the agents and manage cross process\n",
    "# synchronization\n",
    "context = ctx.SharedContext(comm)\n",
    "\n",
    "# Initializes the default schedule runner, HERE to create the t() function,\n",
    "# returning the tick value\n",
    "\"\"\"\n",
    "init_schedule_runner(comm)\n",
    "Initializes the default schedule runner, a dynamic schedule of executable \n",
    "events shared and synchronized across processes.\n",
    "Events are added to the scheduled for execution at a particular tick. \n",
    "The first valid tick is 0. Events will be executed in tick order, earliest \n",
    "before latest. Events scheduled for the same tick will be executed in the \n",
    "order in which they were added. If during the execution of a tick, \n",
    "an event is scheduled before the executing tick (i.e., scheduled to occur in \n",
    "the past) then that event is ignored. The scheduled is synchronized across \n",
    "process ranks by determining the global cross-process minimum next scheduled \n",
    "event time, and executing only the events schedule for that time. In this way, \n",
    "no schedule runs ahead of any other.\n",
    "\"\"\"\n",
    "runner = schedule.init_schedule_runner(comm)\n",
    "\n",
    "def t():\n",
    "    return runner.schedule.tick\n",
    "\n",
    "\n",
    "# https://repast.github.io/repast4py.site/apidoc/source/repast4py.parameters.html\n",
    "\"\"\"\n",
    "create_args_parser()\n",
    "Creates an argparse parser with two arguments: \n",
    "1) a yaml format file containing model parameter input, and \n",
    "2) an optional json dictionary string that can override that input.\n",
    "\"\"\"\n",
    "parser = parameters.create_args_parser()\n",
    "\n",
    "args = parser.parse_args()\n",
    "\n",
    "\n",
    "\"\"\"\n",
    "init_params(parameters_file, parameters)\n",
    "Initializes the repast4py.parameters.params dictionary with the model input parameters.\n",
    "\"\"\"\n",
    "params = parameters.init_params(args.parameters_file, args.parameters)\n",
    "\n",
    "\"\"\"\n",
    "repast4py.random.default_rng: numpy.random._generator.Generator = Generator(PCG64) \n",
    "at 0x7F6812E0CD60 repast4py’s default random generator created using init. \n",
    "See the Generator API documentation for more information on the available distributions \n",
    "and sampling functions.\n",
    "\n",
    "Type\n",
    "numpy.random.Generator\n",
    "\n",
    "repast4py.random.init(rng_seed=None)\n",
    "Initializes the default random number generator using the specified seed.\n",
    "\n",
    "Parameters\n",
    "rng_seed (int) – the random number seed. Defaults to None in which case, the current \n",
    "time as returned by time.time() is used as the seed.\n",
    "\"\"\"\n",
    "\n",
    "repast4py.random.init(rng_seed=params['myRandom.seed'][rank])\n",
    "rng = repast4py.random.default_rng \n",
    "\n",
    "\n",
    "\n",
    "#timer T()\n",
    "startTime=-1\n",
    "def T():\n",
    "    global startTime\n",
    "    if startTime < 0:\n",
    "        startTime=time.time()\n",
    "    return time.time() - startTime\n",
    "\n",
    "T()\n",
    "\n",
    "    "
   ]
  },
  {
   "cell_type": "markdown",
   "id": "5efbc8c8",
   "metadata": {},
   "source": [
    "## -1\n",
    "\n",
    "memory allocations to manage agents"
   ]
  },
  {
   "cell_type": "code",
   "execution_count": 3,
   "id": "0da76cbe",
   "metadata": {},
   "outputs": [
    {
     "name": "stdout",
     "output_type": "stream",
     "text": [
      "Overwriting memAlloc.py\n"
     ]
    }
   ],
   "source": [
    "%%writefile memAlloc.py\n",
    "\n",
    "agent_cache={} # dict with uid as keys and agents' tuples as values, \n",
    "               # used by restore_agent (def in classes.py) to avoid rebuild agents\n",
    "    \n",
    "ghostsToRequest=[] # list of tuples containing for each ghost the uid and its current rank;\n",
    "                   # used by the requestGhosts(self) function of the model\n"
   ]
  },
  {
   "cell_type": "markdown",
   "id": "404974ee",
   "metadata": {},
   "source": [
    "## 0\n",
    "\n",
    "program starter"
   ]
  },
  {
   "cell_type": "code",
   "execution_count": 4,
   "id": "b6675d66",
   "metadata": {},
   "outputs": [
    {
     "name": "stdout",
     "output_type": "stream",
     "text": [
      "Overwriting starter.py\n"
     ]
    }
   ],
   "source": [
    "%%writefile starter.py\n",
    "\n",
    "from runMod import *\n",
    "\n",
    "\n",
    "\n",
    "run(params)"
   ]
  },
  {
   "cell_type": "markdown",
   "id": "7b4ee2c8",
   "metadata": {},
   "source": [
    "## 1 \n",
    "\n",
    "run the model"
   ]
  },
  {
   "cell_type": "code",
   "execution_count": 5,
   "id": "42356c89",
   "metadata": {},
   "outputs": [
    {
     "name": "stdout",
     "output_type": "stream",
     "text": [
      "Overwriting runMod.py\n"
     ]
    }
   ],
   "source": [
    "%%writefile runMod.py\n",
    "\n",
    "from typing import Dict\n",
    "from model import *\n",
    "\n",
    "def run(params: Dict):\n",
    "    \n",
    "    model = Model(params) #Model(MPI.COMM_WORLD, params)\n",
    "    model.start()"
   ]
  },
  {
   "cell_type": "markdown",
   "id": "2a07a342",
   "metadata": {},
   "source": [
    "## 2\n",
    "\n",
    "classes (agent definitions + restore_agent function)"
   ]
  },
  {
   "cell_type": "code",
   "execution_count": 6,
   "id": "a3dbd4a5",
   "metadata": {
    "scrolled": true
   },
   "outputs": [
    {
     "name": "stdout",
     "output_type": "stream",
     "text": [
      "Overwriting classes.py\n"
     ]
    }
   ],
   "source": [
    "%%writefile classes.py\n",
    "\n",
    "from repast4py import core\n",
    "from typing import Tuple, List\n",
    "\n",
    "from memAlloc import *\n",
    "from MPIandContext import *\n",
    "\n",
    "\n",
    "class WinnerLoser(core.Agent):\n",
    "\n",
    "    TYPE = 0\n",
    "    \n",
    "    def __init__(self, local_id: int, rank: int, wallet: float):\n",
    "        super().__init__(id=local_id, type=WinnerLoser.TYPE, rank=rank)\n",
    "\n",
    "        self.myWallet = wallet\n",
    "\n",
    "        self.counterpartRank = -1\n",
    "        self.counterpartLocalId = -1\n",
    "        \n",
    "        self.havePresenceAsSelfOrGhost = [False] * rankNum\n",
    "        self.havePresenceAsSelfOrGhost[rank] = True\n",
    "        \n",
    "    def choosingRankAndCreatingItsGhostIfAny(self) -> List:\n",
    "        self.counterpartRank = int(rng.integers(0,rankNum))\n",
    "        if not self.havePresenceAsSelfOrGhost[self.counterpartRank]:\n",
    "            self.havePresenceAsSelfOrGhost[self.counterpartRank] = True\n",
    "            return [self.counterpartRank, ((self.uid[0], self.TYPE, rank), rank)]\n",
    "        \n",
    "    def operatingInItsRank(self):\n",
    "        if self.counterpartRank == rank:\n",
    "            tmpListOfAgentsInTheSameRank = list(context.agents(agent_type=0))\n",
    "            ii=0\n",
    "            for i in range(len(tmpListOfAgentsInTheSameRank)):\n",
    "                if self.uid == tmpListOfAgentsInTheSameRank[i].uid: ii=i\n",
    "            tmpListOfAgentsInTheSameRank.pop(ii)\n",
    "            counterpart=tmpListOfAgentsInTheSameRank[int(rng.integers(0,len(tmpListOfAgentsInTheSameRank)))]\n",
    "            commonWallet = self.myWallet + counterpart.myWallet\n",
    "            share=float(rng.random())\n",
    "            self.myWallet = commonWallet*share\n",
    "            counterpart.myWallet = commonWallet*(1-share)\n",
    "            #print(\"rank\", rank, \"tick\", t(), \"uid\", self.uid,\"myWallet\",\\\n",
    "            #      self.myWallet, \"counterpart\", counterpart.uid, \"counterpart wallet\", counterpart.myWallet, flush = True)\n",
    "            \n",
    "        \n",
    "                              \n",
    "\n",
    "                    \n",
    "    # TMP\n",
    "    def reactingAsGhost(self):\n",
    "        #print(\"*** in rank\",rank,\"tick\",t(),\"ghost\",self.uid, self.myWallet, flush=True)\n",
    "        pass\n",
    "\n",
    "\n",
    "    def save(self) -> Tuple: # mandatory\n",
    "        \"\"\"\n",
    "        Saves the state of the WinnerLoser as a Tuple.\n",
    "\n",
    "        Returns:\n",
    "            The saved state of this WinnerLoser.\n",
    "        \"\"\"\n",
    "        return (self.uid, self.myWallet)\n",
    "\n",
    "    def update(self, wallet: float): # mandatory\n",
    "        \"\"\"\n",
    "        Updates the state of this agent when it is a ghost\n",
    "        agent on some rank other than its local one.\n",
    "        \"\"\"\n",
    "        self.myWallet=wallet\n",
    "\n",
    "      \n",
    "            \n",
    "def restore_agent(agent_data: Tuple):\n",
    "\n",
    "    uid=agent_data[0]\n",
    "\n",
    "    if uid[1] == WinnerLoser.TYPE:\n",
    "    \n",
    "        if uid in agent_cache:   # look for agent_cache in model.py\n",
    "            tmp = agent_cache[uid] # found\n",
    "            tmp.myWallet = agent_data[1] #restore data\n",
    "\n",
    "        else: #creation of an instance of the class with its data\n",
    "            tmp = WinnerLoser(uid[0], uid[2],agent_data[1])                \n",
    "            agent_cache[uid] = tmp\n",
    "\n",
    "        return tmp\n",
    "\n",
    "    "
   ]
  },
  {
   "cell_type": "markdown",
   "id": "6186a394",
   "metadata": {},
   "source": [
    "## 2b\n",
    "\n",
    "broadcasting function"
   ]
  },
  {
   "cell_type": "code",
   "execution_count": 7,
   "id": "0acdbbd3",
   "metadata": {},
   "outputs": [
    {
     "name": "stdout",
     "output_type": "stream",
     "text": [
      "Overwriting broadcastF.py\n"
     ]
    }
   ],
   "source": [
    "%%writefile broadcastF.py\n",
    "\n",
    "import json\n",
    "import numpy as np\n",
    "\n",
    "\n",
    "\n",
    "def countDigits(n):\n",
    "    count = 0\n",
    "    while(n>0):\n",
    "        count+=1\n",
    "        n=n//10\n",
    "    return count\n",
    "\n",
    "def broadcastGhostRequests(mToBcast, params, rankNum, rank, comm, ghostsToRequest):\n",
    "    \n",
    "    n=params['WinnerLoser.count'] // rankNum\n",
    "    countB = 10+n*(22+countDigits(n))\n",
    "    str_countB=\"S\"+str(countB)\n",
    "            \n",
    "    mToBcast=json.dumps(mToBcast)\n",
    "    mToBcast=np.array(mToBcast, dtype=str_countB) \n",
    "    mToBcast=mToBcast.tobytes()    \n",
    "        \n",
    "    data=[\"\"]*rankNum\n",
    "    for k in range(rankNum):\n",
    "        if rank == k:\n",
    "            data[k] =mToBcast\n",
    "        else:\n",
    "            data[k] = bytearray(countB) \n",
    "    for k in range(rankNum):\n",
    "        comm.Bcast(data[k], root=k)\n",
    "\n",
    "    for k in range(rankNum):\n",
    "        data[k]=data[k].decode().rstrip('\\x00')\n",
    "\n",
    "    for k in range(rankNum):\n",
    "        data[k]=json.loads(data[k])\n",
    "            \n",
    "\n",
    "    for anItem in data:\n",
    "        anItem.pop(0)\n",
    "        for aSubitem in anItem: \n",
    "            if len(aSubitem)>1 and aSubitem[0]==rank: \n",
    "                aaSubitem = aSubitem[1][0]\n",
    "                aaSubitem = tuple(aaSubitem)\n",
    "                aSubitem=(aSubitem[0], (aaSubitem, aSubitem[1][1]))\n",
    "                    \n",
    "                if not tuple(aSubitem[1]) in ghostsToRequest:\n",
    "                    ghostsToRequest.append(tuple(aSubitem[1]))\n",
    "                    "
   ]
  },
  {
   "cell_type": "markdown",
   "id": "eea35022",
   "metadata": {},
   "source": [
    "## 3\n",
    "\n",
    "the model"
   ]
  },
  {
   "cell_type": "code",
   "execution_count": 8,
   "id": "3ef35b50",
   "metadata": {},
   "outputs": [
    {
     "name": "stdout",
     "output_type": "stream",
     "text": [
      "Overwriting model.py\n"
     ]
    }
   ],
   "source": [
    "%%writefile model.py\n",
    "\n",
    "#from mpi4py import MPI\n",
    "from MPIandContext import *\n",
    "from typing import Dict\n",
    "#from repast4py import schedule\n",
    "#from repast4py import context as ctx\n",
    "import repast4py\n",
    "import json\n",
    "import csv\n",
    "import numpy as np\n",
    "from classes import *\n",
    "from memAlloc import *\n",
    "from broadcastF import *\n",
    "\n",
    "\n",
    "\n",
    "\n",
    "class Model:\n",
    "    \"\"\"\n",
    "    The Model class encapsulates the simulation, and is\n",
    "    responsible for initialization (scheduling events, creating agents,\n",
    "    and the grid the agents inhabit IF ANY), and the overall iterating\n",
    "    behavior of the model.\n",
    "\n",
    "    Args:\n",
    "        params: the simulation input parameters\n",
    "    \"\"\"\n",
    "    \n",
    "    global params\n",
    "    PARAMS = params\n",
    "    \n",
    "    def __init__(self, params: Dict):\n",
    "        \n",
    "        self.mToBcast = []\n",
    "        \n",
    "        # the context to hold the agents and manage cross process synchronization\n",
    "        # is created in step -2\n",
    "\n",
    "        \n",
    "        # the runner, implementing the schedule, is created in step -2\n",
    "        # https://repast.github.io/repast4py.site/apidoc/source/repast4py.schedule.html\n",
    "        \n",
    "        \"\"\"\n",
    "        schedule_repeating_event(at, interval, evt)\n",
    "        Schedules the specified event to execute at the specified tick, and repeat at \n",
    "        the specified interval.\n",
    "\n",
    "        Parameters\n",
    "        at (float) – the time of the event.\n",
    "        interval (float) – the interval at which to repeat event execution.\n",
    "        evt (Callable) – the Callable to execute when the event occurs.\n",
    "\n",
    "            A callable is anything that can be called.\n",
    "            The built-in callable (PyCallable_Check in objects.c) checks if the argument \n",
    "            is either:\n",
    "                an instance of a class with a __call__ method or\n",
    "                is of a type that has a non null tp_call (c struct) member which \n",
    "                indicates callability otherwise (such as in functions, methods etc.)\n",
    "        \"\"\"\n",
    "        runner.schedule_repeating_event(0  , 1, self.counter)\n",
    "        runner.schedule_repeating_event(0.1, 1, self.agentsChoosingCounterpart)\n",
    "        runner.schedule_repeating_event(0.2, 1, self.agentsSendingTheirGhosts)      \n",
    "        runner.schedule_repeating_event(0.3, 1, self.agentsExchangingInTheirRanks)\n",
    "        runner.schedule_repeating_event(0.4, 1, self.sync)\n",
    "        runner.schedule_repeating_event(0.5, 1, self.checkingGhostsWallets)\n",
    "        \"\"\"\n",
    "        schedule_stop(at)\n",
    "        Schedules the execution of this schedule to stop at the specified tick.\n",
    "\n",
    "        Parameters\n",
    "        at (float) – the tick at which the schedule will stop.\n",
    "        \"\"\"\n",
    "        runner.schedule_stop(params['stop.at'])\n",
    "        \n",
    "        runner.schedule_end_event(self.finish)\n",
    "        \n",
    "\n",
    "        \n",
    "        # create agents\n",
    "        # winnerLoser agents\n",
    "        \n",
    "        for i in range(params['WinnerLoser.count'] // rankNum): \n",
    "                                                #to subdivide the total #pt\n",
    "            # create and add the agent to the context\n",
    "            aWallet=1 #10 * rng.random()\n",
    "            aWinnerLoser = WinnerLoser(i,rank,aWallet)\n",
    "            context.add(aWinnerLoser)\n",
    "            \n",
    "\n",
    "        \n",
    "    def counter(self):\n",
    "        if int(t()) % 100 == 0: print(\"rank\", rank, \"tick\", t(), flush=True)\n",
    "    \n",
    "    def agentsChoosingCounterpart(self):        \n",
    "        \n",
    "        del self.mToBcast \n",
    "        self.mToBcast = [rank] \n",
    "        \n",
    "        \"\"\"\n",
    "        agents(agent_type=None, count=None, shuffle=False)\n",
    "        Gets the agents in this SharedContext, optionally of the specified type, count \n",
    "        or shuffled.\n",
    "\n",
    "        Parameters\n",
    "        agent_type (int) – the type id of the agent, defaults to None.\n",
    "        count (int) – the number of agents to return, defaults to None, meaning return \n",
    "        all the agents.shuffle (bool) – whether or not the iteration order is shuffled.\n",
    "        If true, the order is shuffled. If false, the iteration order is the order of \n",
    "        insertion.\n",
    "\n",
    "        Returns\n",
    "        An iterable over all the agents in the context. If the agent_type is \n",
    "        not None then an iterable over agents of that type will be returned.\n",
    "\n",
    "        Return type\n",
    "        iterable \n",
    "        pt addendum: it is a generator, not a list\n",
    "        \"\"\"\n",
    "        \n",
    "        for aWinnerLoser in context.agents(agent_type=0):\n",
    "            aRequest = aWinnerLoser.choosingRankAndCreatingItsGhostIfAny()\n",
    "            if aRequest != None: self.mToBcast.append(aRequest)\n",
    "    \n",
    "        #ic(t(),self.mToBcast);\n",
    "        \n",
    "        \n",
    "        \n",
    "    def agentsSendingTheirGhosts(self):\n",
    "        broadcastGhostRequests(self.mToBcast, Model.PARAMS, rankNum, rank, comm, ghostsToRequest)  #broadcasting\n",
    "        \n",
    "        \"\"\"\n",
    "        https://repast.github.io/repast4py.site/apidoc/source/repast4py.context.html\n",
    "        request_agents(requested_agents, create_agent)\n",
    "        Requests agents from other ranks to be copied to this rank as ghosts.\n",
    "\n",
    "        !!!! This is a collective operation and all ranks must call it, regardless \n",
    "        of whether agents are being requested by that rank. The requested agents \n",
    "        will be automatically added as ghosts to this rank.\n",
    "\n",
    "        Parameters\n",
    "        requested_agents (List) – A list of tuples specifying requested \n",
    "        agents and the rank to request from. Each tuple must contain the agents \n",
    "        unique id tuple and the rank, for example ((id, type, rank), requested_rank).\n",
    "\n",
    "        create_agent (Callable) – a Callable that can take the result of an agent \n",
    "        save() and return an agent.\n",
    "\n",
    "        Returns\n",
    "        ***The list of requested agents.\n",
    "\n",
    "        Return type\n",
    "        List[_core.Agent]\n",
    "        \"\"\"\n",
    "        context.request_agents(ghostsToRequest,restore_agent)\n",
    "        #ic(t(),rank,ghostsToRequest,agent_cache);\n",
    "\n",
    "        \n",
    "    def agentsExchangingInTheirRanks(self):\n",
    "        for aWinnerLoser in context.agents(agent_type=0):\n",
    "            aWinnerLoser.operatingInItsRank()\n",
    "  \n",
    "           \n",
    "    #TMP\n",
    "    def checkingGhostsWallets(self):\n",
    "        if len(agent_cache)>0:\n",
    "            currentGhostList=list(agent_cache.keys())\n",
    "            for i in range(len(agent_cache)):\n",
    "                agent_cache[currentGhostList[i]].reactingAsGhost()\n",
    "        \n",
    "        \n",
    "    def sync(self):\n",
    "        \"\"\"\n",
    "        synchronize(restore_agent, sync_ghosts=True)\n",
    "        Synchronizes the model state across processes by moving agents, \n",
    "        filling projection buffers with ghosts, updating ghosted state and so forth.\n",
    "\n",
    "        Parameters\n",
    "        restore_agent (Callable) – a callable that takes agent state data and returns \n",
    "        an agent instance from that data. The data is a tuple whose first element \n",
    "        is the agent’s unique id tuple, and the second element is the agent’s state, \n",
    "        as returned by that agent’s type’s save() method.\n",
    "\n",
    "        sync_ghosts (bool) – if True, the ghosts in any SharedProjections and \n",
    "        value layers associated with this SharedContext are also synchronized. \n",
    "        Defaults to True.\n",
    "        \"\"\"\n",
    "        context.synchronize(restore_agent)\n",
    "        #ic(t(),rank,\"synchronisation made\");\n",
    "    \n",
    "                        \n",
    "    def finish(self):\n",
    "        allTheWallets = []\n",
    "        for aWinnerLoser in context.agents(agent_type=0):\n",
    "            allTheWallets.append(aWinnerLoser.myWallet)\n",
    "        \n",
    "        print(\"\\n\\nBye bye by rank\",rank,\"at tick\",t(),\"clock\",T(),flush=True)\n",
    "        #print(allTheWallets, flush = True)\n",
    "        \n",
    "        with open(params[\"log_file_root\"]+str(rank)+'.csv', 'w', newline='') as file:\n",
    "            writer = csv.writer(file)\n",
    "            writer.writerow(allTheWallets)\n",
    "                \n",
    "        \n",
    "    def start(self):\n",
    "        runner.execute()\n",
    "        "
   ]
  },
  {
   "cell_type": "markdown",
   "id": "686ef2b5",
   "metadata": {},
   "source": [
    "# Execution"
   ]
  },
  {
   "cell_type": "code",
   "execution_count": 9,
   "id": "368559de",
   "metadata": {
    "scrolled": false
   },
   "outputs": [
    {
     "name": "stdout",
     "output_type": "stream",
     "text": [
      "rank 0 tick 0\n",
      "rank 1 tick 0\n",
      "rank 2 tick 0\n",
      "rank 0 tick 100\n",
      "rank 1 tick 100\n",
      "rank 2 tick 100\n",
      "rank 0 tick 200\n",
      "rank 1 tick 200\n",
      "rank 2 tick 200\n",
      "rank 0 tick 300\n",
      "rank 1 tick 300\n",
      "rank 2 tick 300\n",
      "rank 0 tick 400\n",
      "rank 1 tick 400\n",
      "rank 2 tick 400\n",
      "rank 0 tick 500\n",
      "rank 2 tick 500\n",
      "rank 1 tick 500\n",
      "\n",
      "\n",
      "Bye bye by rank 2 at tick 500 clock 99.00544905662537\n",
      "\n",
      "\n",
      "Bye bye by rank 0 at tick 500 clock 98.99277210235596\n",
      "\n",
      "\n",
      "Bye bye by rank 1 at tick 500 clock 99.00487279891968\n"
     ]
    }
   ],
   "source": [
    "# R U N\n",
    "# %sx mpirun -n 1 python3 starter.py winners-losers.yaml\n",
    "! mpirun -n 3 python3 starter.py winners-losers.yaml\n",
    "#! /usr/bin/mpirun -n 3 python3 starter.py winners-losers.yaml\n",
    "# %sx mpirun -n 1 python3 starter.py winners-losers.yaml '{\"a\": 123,\"random.seed\": 1000}'"
   ]
  },
  {
   "cell_type": "code",
   "execution_count": 1,
   "id": "de684dd3",
   "metadata": {
    "scrolled": true
   },
   "outputs": [
    {
     "data": {
      "image/png": "[encoded data removed]",
      "text/plain": [
       "<Figure size 432x288 with 1 Axes>"
      ]
     },
     "metadata": {
      "needs_background": "light"
     },
     "output_type": "display_data"
    }
   ],
   "source": [
    "import csv\n",
    "import matplotlib.pyplot as plt\n",
    "\n",
    "fileNameRoot=\"wallets\"\n",
    "rankNum=3\n",
    "\n",
    "allTheRanks = []\n",
    "\n",
    "for i in range(rankNum):\n",
    "    with open(fileNameRoot+str(i)+'.csv', 'r') as file:\n",
    "        reader = csv.reader(file, delimiter = ',',quoting=csv.QUOTE_NONNUMERIC)\n",
    "        \n",
    "        for row in reader:\n",
    "            allTheRanks = allTheRanks + row\n",
    "            \n",
    "#print(allTheRanks)\n",
    "plt.hist(allTheRanks, 100);"
   ]
  },
  {
   "cell_type": "code",
   "execution_count": null,
   "id": "b74490fe",
   "metadata": {},
   "outputs": [],
   "source": []
  }
 ],
 "metadata": {
  "kernelspec": {
   "display_name": "Python 3 (ipykernel)",
   "language": "python",
   "name": "python3"
  },
  "language_info": {
   "codemirror_mode": {
    "name": "ipython",
    "version": 3
   },
   "file_extension": ".py",
   "mimetype": "text/x-python",
   "name": "python",
   "nbconvert_exporter": "python",
   "pygments_lexer": "ipython3",
   "version": "3.9.7"
  }
 },
 "nbformat": 4,
 "nbformat_minor": 5
}
