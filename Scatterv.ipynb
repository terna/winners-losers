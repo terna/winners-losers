{
 "cells": [
  {
   "cell_type": "code",
   "execution_count": 6,
   "id": "70cf4bf9",
   "metadata": {},
   "outputs": [
    {
     "name": "stdout",
     "output_type": "stream",
     "text": [
      "Overwriting Scatterv.py\n"
     ]
    }
   ],
   "source": [
    "%%writefile Scatterv.py\n",
    "\n",
    "# https://www.kth.se/blogs/pdc/2019/11/parallel-programming-in-python-mpi4py-part-2/\n",
    "\n",
    "from mpi4py import MPI\n",
    "import numpy as np\n",
    "\n",
    "comm = MPI.COMM_WORLD\n",
    "rank = comm.Get_rank()\n",
    "nprocs = comm.Get_size()\n",
    "\n",
    "if rank == 0:\n",
    "    sendbuf = np.arange(15.0)\n",
    "\n",
    "    # count: the size of each sub-task\n",
    "    ave, res = divmod(sendbuf.size, nprocs)\n",
    "    count = [ave + 1 if p < res else ave for p in range(nprocs)]\n",
    "    count = np.array(count)\n",
    "\n",
    "    # displacement: the starting index of each sub-task\n",
    "    displ = [sum(count[:p]) for p in range(nprocs)]\n",
    "    displ = np.array(displ)\n",
    "else:\n",
    "    sendbuf = None\n",
    "    # initialize count on worker processes\n",
    "    count = np.zeros(nprocs, dtype=np.int)\n",
    "    displ = None\n",
    "\n",
    "# broadcast count\n",
    "comm.Bcast(count, root=0)\n",
    "\n",
    "# initialize recvbuf on all processes\n",
    "recvbuf = np.zeros(count[rank])\n",
    "\n",
    "comm.Scatterv([sendbuf, count, displ, MPI.DOUBLE], recvbuf, root=0)\n",
    "\n",
    "print('After Scatterv, process {} has data:'.format(rank), recvbuf)"
   ]
  },
  {
   "cell_type": "code",
   "execution_count": 7,
   "id": "8789ae71",
   "metadata": {},
   "outputs": [
    {
     "name": "stdout",
     "output_type": "stream",
     "text": [
      "/Users/pt/Desktop/repast4py/winners-losers/Scatterv.py:25: DeprecationWarning: `np.int` is a deprecated alias for the builtin `int`. To silence this warning, use `int` by itself. Doing this will not modify any behavior and is safe. When replacing `np.int`, you may wish to use e.g. `np.int64` or `np.int32` to specify the precision. If you wish to review your current use, check the release note link for additional information.\r\n",
      "Deprecated in NumPy 1.20; for more details and guidance: https://numpy.org/devdocs/release/1.20.0-notes.html#deprecations\r\n",
      "  count = np.zeros(nprocs, dtype=np.int)\r\n",
      "/Users/pt/Desktop/repast4py/winners-losers/Scatterv.py:25: DeprecationWarning: `np.int` is a deprecated alias for the builtin `int`. To silence this warning, use `int` by itself. Doing this will not modify any behavior and is safe. When replacing `np.int`, you may wish to use e.g. `np.int64` or `np.int32` to specify the precision. If you wish to review your current use, check the release note link for additional information.\r\n",
      "Deprecated in NumPy 1.20; for more details and guidance: https://numpy.org/devdocs/release/1.20.0-notes.html#deprecations\r\n",
      "  count = np.zeros(nprocs, dtype=np.int)\r\n",
      "After Scatterv, process 0 has data: [0. 1. 2. 3. 4.]\r\n",
      "After Scatterv, process 1 has data: [5. 6. 7. 8. 9.]\r\n",
      "After Scatterv, process 2 has data: [10. 11. 12. 13. 14.]\r\n"
     ]
    }
   ],
   "source": [
    "# R U N\n",
    "! mpirun -n 3 python3 Scatterv.py"
   ]
  },
  {
   "cell_type": "code",
   "execution_count": null,
   "id": "0ceb69c2",
   "metadata": {},
   "outputs": [],
   "source": []
  }
 ],
 "metadata": {
  "kernelspec": {
   "display_name": "Python 3 (ipykernel)",
   "language": "python",
   "name": "python3"
  },
  "language_info": {
   "codemirror_mode": {
    "name": "ipython",
    "version": 3
   },
   "file_extension": ".py",
   "mimetype": "text/x-python",
   "name": "python",
   "nbconvert_exporter": "python",
   "pygments_lexer": "ipython3",
   "version": "3.9.7"
  }
 },
 "nbformat": 4,
 "nbformat_minor": 5
}
