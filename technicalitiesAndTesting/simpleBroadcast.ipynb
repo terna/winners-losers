{
 "cells": [
  {
   "cell_type": "code",
   "execution_count": 1,
   "id": "d423efff",
   "metadata": {},
   "outputs": [
    {
     "name": "stdout",
     "output_type": "stream",
     "text": [
      "Overwriting simpleBroadcast.py\n"
     ]
    }
   ],
   "source": [
    "%%writefile simpleBroadcast.py\n",
    "\n",
    "from mpi4py import MPI\n",
    "import numpy as np\n",
    "\n",
    "comm = MPI.COMM_WORLD\n",
    "rank = comm.Get_rank()\n",
    "\n",
    "myMa = [['zzz', '2', '-1'], ['xxx', '5', '-99'], ['zzzabcdefghilmn', '2', '-1']]\n",
    "myMa_arr = np.array(myMa, dtype='S10')\n",
    "myMa_arr_b = myMa_arr.tobytes()\n",
    "\n",
    "if rank == 0:\n",
    "    data = myMa_arr_b\n",
    "else:\n",
    "    data = bytearray(90)\n",
    "\n",
    "comm.Bcast(data, root=0)\n",
    "\n",
    "data=np.frombuffer(data, dtype='S10', count=9)\n",
    "data = data.reshape((3, 3))\n",
    "print(rank, data)\n"
   ]
  },
  {
   "cell_type": "code",
   "execution_count": 2,
   "id": "f5992187",
   "metadata": {},
   "outputs": [
    {
     "name": "stdout",
     "output_type": "stream",
     "text": [
      "0 [[b'zzz' b'2' b'-1']\r\n",
      " [b'xxx' b'5' b'-99']\r\n",
      " [b'zzzabcdefg' b'2' b'-1']]\r\n",
      "1 [[b'zzz' b'2' b'-1']\r\n",
      " [b'xxx' b'5' b'-99']\r\n",
      " [b'zzzabcdefg' b'2' b'-1']]\r\n",
      "2 [[b'zzz' b'2' b'-1']\r\n",
      " [b'xxx' b'5' b'-99']\r\n",
      " [b'zzzabcdefg' b'2' b'-1']]\r\n"
     ]
    }
   ],
   "source": [
    "! mpirun -n 3 python3 simpleBroadcast.py"
   ]
  },
  {
   "cell_type": "code",
   "execution_count": null,
   "id": "3f13abb6",
   "metadata": {},
   "outputs": [],
   "source": []
  }
 ],
 "metadata": {
  "kernelspec": {
   "display_name": "Python 3 (ipykernel)",
   "language": "python",
   "name": "python3"
  },
  "language_info": {
   "codemirror_mode": {
    "name": "ipython",
    "version": 3
   },
   "file_extension": ".py",
   "mimetype": "text/x-python",
   "name": "python",
   "nbconvert_exporter": "python",
   "pygments_lexer": "ipython3",
   "version": "3.9.7"
  }
 },
 "nbformat": 4,
 "nbformat_minor": 5
}
