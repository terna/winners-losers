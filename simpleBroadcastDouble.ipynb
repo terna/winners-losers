{
 "cells": [
  {
   "cell_type": "code",
   "execution_count": 1,
   "id": "d423efff",
   "metadata": {},
   "outputs": [
    {
     "name": "stdout",
     "output_type": "stream",
     "text": [
      "Overwriting simpleBroadcast.py\n"
     ]
    }
   ],
   "source": [
    "%%writefile simpleBroadcast.py\n",
    "\n",
    "from mpi4py import MPI\n",
    "import numpy as np\n",
    "\n",
    "comm = MPI.COMM_WORLD\n",
    "rank = comm.Get_rank()\n",
    "\n",
    "myMa1 = [['1zzz', '2', '-1'], ['xxx', '5', '-99'], ['zzzabcdefghilmn', '2', '-1']]\n",
    "myMa1_arr = np.array(myMa1, dtype='S10')\n",
    "myMa1_arr_b = myMa1_arr.tobytes()\n",
    "\n",
    "if rank == 1:\n",
    "    data1 = myMa1_arr_b\n",
    "else:\n",
    "    data1 = bytearray(90)\n",
    "\n",
    "comm.Bcast(data1, root=1)\n",
    "\n",
    "data1=np.frombuffer(data1, dtype='S10', count=9)\n",
    "data1 = data1.reshape((3, 3))\n",
    "print(rank, data1)\n",
    "print(rank, data1[0,0].decode(\"utf-8\") )\n",
    "\n",
    "\n",
    "myMa2 = [['2zzz', '2', '-1'], ['xxx', '5', '-99'], ['zzzabcdefghilmn', '2', '-1']]\n",
    "myMa2_arr = np.array(myMa2, dtype='S10')\n",
    "myMa2_arr_b = myMa2_arr.tobytes()\n",
    "\n",
    "if rank == 2:\n",
    "    data2 = myMa2_arr_b\n",
    "else:\n",
    "    data2 = bytearray(90)\n",
    "\n",
    "comm.Bcast(data2, root=2)\n",
    "\n",
    "data2=np.frombuffer(data2, dtype='S10', count=9)\n",
    "data2 = data2.reshape((3, 3))\n",
    "print(rank, data2)\n",
    "print(rank, data2[0,0].decode(\"utf-8\") )\n"
   ]
  },
  {
   "cell_type": "code",
   "execution_count": 2,
   "id": "f5992187",
   "metadata": {},
   "outputs": [
    {
     "name": "stdout",
     "output_type": "stream",
     "text": [
      "0 [[b'1zzz' b'2' b'-1']\r\n",
      " [b'xxx' b'5' b'-99']\r\n",
      " [b'zzzabcdefg' b'2' b'-1']]\r\n",
      "0 1zzz\r\n",
      "0 [[b'2zzz' b'2' b'-1']\r\n",
      " [b'xxx' b'5' b'-99']\r\n",
      " [b'zzzabcdefg' b'2' b'-1']]\r\n",
      "0 2zzz\r\n",
      "1 [[b'1zzz' b'2' b'-1']\r\n",
      " [b'xxx' b'5' b'-99']\r\n",
      " [b'zzzabcdefg' b'2' b'-1']]\r\n",
      "1 1zzz\r\n",
      "1 [[b'2zzz' b'2' b'-1']\r\n",
      " [b'xxx' b'5' b'-99']\r\n",
      " [b'zzzabcdefg' b'2' b'-1']]\r\n",
      "1 2zzz\r\n",
      "2 [[b'1zzz' b'2' b'-1']\r\n",
      " [b'xxx' b'5' b'-99']\r\n",
      " [b'zzzabcdefg' b'2' b'-1']]\r\n",
      "2 1zzz\r\n",
      "2 [[b'2zzz' b'2' b'-1']\r\n",
      " [b'xxx' b'5' b'-99']\r\n",
      " [b'zzzabcdefg' b'2' b'-1']]\r\n",
      "2 2zzz\r\n"
     ]
    }
   ],
   "source": [
    "! mpirun -n 3 python3 simpleBroadcast.py"
   ]
  },
  {
   "cell_type": "code",
   "execution_count": null,
   "id": "3f13abb6",
   "metadata": {},
   "outputs": [],
   "source": []
  }
 ],
 "metadata": {
  "kernelspec": {
   "display_name": "Python 3 (ipykernel)",
   "language": "python",
   "name": "python3"
  },
  "language_info": {
   "codemirror_mode": {
    "name": "ipython",
    "version": 3
   },
   "file_extension": ".py",
   "mimetype": "text/x-python",
   "name": "python",
   "nbconvert_exporter": "python",
   "pygments_lexer": "ipython3",
   "version": "3.9.7"
  }
 },
 "nbformat": 4,
 "nbformat_minor": 5
}
