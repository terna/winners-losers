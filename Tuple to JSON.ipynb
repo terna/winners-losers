{
 "cells": [
  {
   "cell_type": "markdown",
   "id": "81f5118a",
   "metadata": {},
   "source": [
    "### JSON, [JavaScript Object Notation](https://it.wikipedia.org/wiki/JavaScript_Object_Notation)"
   ]
  },
  {
   "cell_type": "code",
   "execution_count": 4,
   "id": "92514c5b",
   "metadata": {},
   "outputs": [
    {
     "data": {
      "text/plain": [
       "'[\"one\", \"two\", \"three\"]'"
      ]
     },
     "execution_count": 4,
     "metadata": {},
     "output_type": "execute_result"
    }
   ],
   "source": [
    "import json\n",
    "\n",
    "my_tuple = ('one', 'two', 'three')\n",
    "\n",
    "json_str = json.dumps(my_tuple)\n",
    "\n",
    "json_str"
   ]
  },
  {
   "cell_type": "code",
   "execution_count": 5,
   "id": "96dc3069",
   "metadata": {},
   "outputs": [
    {
     "data": {
      "text/plain": [
       "['one', 'two', 'three']"
      ]
     },
     "execution_count": 5,
     "metadata": {},
     "output_type": "execute_result"
    }
   ],
   "source": [
    "parsed = json.loads(json_str)\n",
    "\n",
    "parsed"
   ]
  },
  {
   "cell_type": "code",
   "execution_count": 6,
   "id": "751afe61",
   "metadata": {},
   "outputs": [
    {
     "data": {
      "text/plain": [
       "('one', 'two', 'three')"
      ]
     },
     "execution_count": 6,
     "metadata": {},
     "output_type": "execute_result"
    }
   ],
   "source": [
    "parsed2 = tuple(json.loads(json_str))\n",
    "parsed2"
   ]
  },
  {
   "cell_type": "code",
   "execution_count": null,
   "id": "9f73a7e1",
   "metadata": {},
   "outputs": [],
   "source": []
  }
 ],
 "metadata": {
  "kernelspec": {
   "display_name": "Python 3 (ipykernel)",
   "language": "python",
   "name": "python3"
  },
  "language_info": {
   "codemirror_mode": {
    "name": "ipython",
    "version": 3
   },
   "file_extension": ".py",
   "mimetype": "text/x-python",
   "name": "python",
   "nbconvert_exporter": "python",
   "pygments_lexer": "ipython3",
   "version": "3.9.7"
  }
 },
 "nbformat": 4,
 "nbformat_minor": 5
}
