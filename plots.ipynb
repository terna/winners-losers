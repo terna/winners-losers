{
 "cells": [
  {
   "cell_type": "raw",
   "id": "dcd77158",
   "metadata": {},
   "source": [
    "%%javascript\n",
    "// to avoid scroll in windows\n",
    "IPython.OutputArea.prototype._should_scroll = function(lines) {\n",
    "    return false;\n",
    "}"
   ]
  },
  {
   "cell_type": "code",
   "execution_count": null,
   "id": "ff86427e",
   "metadata": {},
   "outputs": [],
   "source": [
    "# using notebook\n",
    "# %matplotlib notebook\n",
    "\n",
    "# using jupyterLab\n",
    "# %matplotlib inline"
   ]
  },
  {
   "cell_type": "code",
   "execution_count": null,
   "id": "12ce3f73",
   "metadata": {},
   "outputs": [],
   "source": [
    "import csv\n",
    "import matplotlib.pyplot as plt\n",
    "\n",
    "with open(\"plotInfo.csv\",\"r\") as data:\n",
    "    reader = csv.reader(data, delimiter = ',')\n",
    "    for row in reader:\n",
    "        fileNameRoot=row[0]\n",
    "        rankNum=int(row[1])\n",
    "\n",
    "allTheRankWallets = []\n",
    "\n",
    "for i in range(rankNum):\n",
    "    with open(fileNameRoot+str(i)+'.csv', 'r') as file:\n",
    "        reader = csv.reader(file, delimiter = ',',quoting=csv.QUOTE_NONNUMERIC)\n",
    "        \n",
    "        for row in reader:\n",
    "            allTheRankWallets = allTheRankWallets + row\n",
    "            \n",
    "#print(allTheRankWallets)\n",
    "plt.hist(allTheRankWallets, 100)\n",
    "plt.title(\"Distribution of the wallets\");"
   ]
  },
  {
   "cell_type": "code",
   "execution_count": null,
   "id": "145badf7",
   "metadata": {},
   "outputs": [],
   "source": [
    "allTheRankMovAvs = []\n",
    "\n",
    "for i in range(rankNum):\n",
    "    with open(fileNameRoot+\"MovAv\"+str(i)+'.csv', 'r') as file:\n",
    "        reader = csv.reader(file, delimiter = ',',quoting=csv.QUOTE_NONNUMERIC)\n",
    "        \n",
    "        for row in reader:\n",
    "            allTheRankMovAvs  = allTheRankMovAvs + row\n",
    "            \n",
    "plt.plot(allTheRankMovAvs, allTheRankWallets, 'bo', markersize=2)\n",
    "plt.title(\"Wallets vs. moving averages in the last exchanges\")\n",
    "plt.xlabel(\"Moving averages\")\n",
    "plt.ylabel(\"Final wallets\");"
   ]
  },
  {
   "cell_type": "code",
   "execution_count": null,
   "id": "191bd2c5",
   "metadata": {},
   "outputs": [],
   "source": []
  }
 ],
 "metadata": {
  "kernelspec": {
   "display_name": "Python 3 (ipykernel)",
   "language": "python",
   "name": "python3"
  },
  "language_info": {
   "codemirror_mode": {
    "name": "ipython",
    "version": 3
   },
   "file_extension": ".py",
   "mimetype": "text/x-python",
   "name": "python",
   "nbconvert_exporter": "python",
   "pygments_lexer": "ipython3",
   "version": "3.9.7"
  }
 },
 "nbformat": 4,
 "nbformat_minor": 5
}
