{
 "cells": [
  {
   "cell_type": "markdown",
   "id": "458dbe83",
   "metadata": {},
   "source": [
    "# MPIexperimentUsingNumpy\n",
    "\n",
    "## [MPI for Python](https://mpi4py.readthedocs.io/en/stable/tutorial.html#collective-communication)\n",
    "\n",
    "\n",
    "SEE ALSO [Parallel Programming for Science and Engineering](https://web.corral.tacc.utexas.edu/CompEdu/pdf/pcse/EijkhoutParallelProgramming.pdf) from second \"! Tip\" in \"MPI for Python\" above\n",
    "\n",
    "about **Bcast** see also https://www.open-mpi.org/doc/v4.1/man3/MPI_Bcast.3.php with \"Broadcasts a message from the process with rank root to all other processes of the group.\"\n"
   ]
  },
  {
   "cell_type": "code",
   "execution_count": 1,
   "id": "056d01ec",
   "metadata": {},
   "outputs": [
    {
     "data": {
      "application/javascript": [
       "// to avoid scroll in windows\n",
       "IPython.OutputArea.prototype._should_scroll = function(lines) {\n",
       "    return false;\n",
       "}\n"
      ],
      "text/plain": [
       "<IPython.core.display.Javascript object>"
      ]
     },
     "metadata": {},
     "output_type": "display_data"
    }
   ],
   "source": [
    "%%javascript\n",
    "// to avoid scroll in windows\n",
    "IPython.OutputArea.prototype._should_scroll = function(lines) {\n",
    "    return false;\n",
    "}"
   ]
  },
  {
   "cell_type": "code",
   "execution_count": 2,
   "id": "6e663a69",
   "metadata": {
    "scrolled": true
   },
   "outputs": [
    {
     "name": "stdout",
     "output_type": "stream",
     "text": [
      "Overwriting MPIexperimentUsingNumpy.py\n"
     ]
    }
   ],
   "source": [
    "%%writefile MPIexperimentUsingNumpy.py\n",
    "\n",
    "# https://mpi4py.readthedocs.io/en/stable/tutorial.html#collective-communication \"Broadcasting a NumPy array\"\n",
    "\n",
    "from mpi4py import MPI\n",
    "import numpy as np\n",
    "import time\n",
    "\n",
    "comm = MPI.COMM_WORLD\n",
    "rank = comm.Get_rank()\n",
    "rankNum=comm.Get_size()\n",
    "\n",
    "data=[0]*rankNum\n",
    "\n",
    "for k in range(rankNum):\n",
    "    \n",
    "    if rank == k:\n",
    "        data[k]=np.array([np.arange(10*k+1,10*k+11),[k]*10] ,dtype='f')\n",
    "    else:\n",
    "        data[k]=np.empty([2,10],dtype='f')\n",
    "\n",
    "    comm.Bcast(data[k], root=k)\n",
    "    \n",
    "    print(time.time(),\"rank\", rank,\"\\n\",data[k],flush=True)"
   ]
  },
  {
   "cell_type": "code",
   "execution_count": 3,
   "id": "880200ce",
   "metadata": {
    "scrolled": true
   },
   "outputs": [
    {
     "name": "stdout",
     "output_type": "stream",
     "text": [
      "dyld: Library not loaded: /opt/local/lib/libicui18n.67.dylib\r\n",
      "  Referenced from: /opt/local/lib/libxml2.2.dylib\r\n",
      "  Reason: image not found\r\n"
     ]
    }
   ],
   "source": [
    "# R U N\n",
    "! mpirun -n 3 python3 MPIexperimentUsingNumpy.py"
   ]
  }
 ],
 "metadata": {
  "kernelspec": {
   "display_name": "Python 3 (ipykernel)",
   "language": "python",
   "name": "python3"
  },
  "language_info": {
   "codemirror_mode": {
    "name": "ipython",
    "version": 3
   },
   "file_extension": ".py",
   "mimetype": "text/x-python",
   "name": "python",
   "nbconvert_exporter": "python",
   "pygments_lexer": "ipython3",
   "version": "3.9.7"
  }
 },
 "nbformat": 4,
 "nbformat_minor": 5
}
