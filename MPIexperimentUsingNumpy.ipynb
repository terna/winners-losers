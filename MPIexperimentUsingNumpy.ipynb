{
 "cells": [
  {
   "cell_type": "markdown",
   "id": "458dbe83",
   "metadata": {},
   "source": [
    "# MPIexperimentUsingNumpy\n",
    "\n",
    "## [MPI for Python](https://mpi4py.readthedocs.io/en/stable/tutorial.html#collective-communication)\n",
    "\n",
    "\n",
    "using [Parallel Programming for Science and Engineering](https://web.corral.tacc.utexas.edu/CompEdu/pdf/pcse/EijkhoutParallelProgramming.pdf) from second \"! Tip\" in \"MPI for Python\" above, p.99, § 3.16.4"
   ]
  },
  {
   "cell_type": "code",
   "execution_count": 1,
   "id": "6e663a69",
   "metadata": {
    "scrolled": true
   },
   "outputs": [
    {
     "name": "stdout",
     "output_type": "stream",
     "text": [
      "Overwriting MPIexperimentUsingNumpy.py\n"
     ]
    }
   ],
   "source": [
    "%%writefile MPIexperimentUsingNumpy.py\n",
    "\n",
    "# MPIexperimentUsingNumpy.py\n",
    "\n",
    "import numpy as np\n",
    "import random\n",
    "from mpi4py import MPI\n",
    "\n",
    "comm = MPI.COMM_WORLD\n",
    "procid = comm.Get_rank()\n",
    "nprocs = comm.Get_size()\n",
    "if nprocs<2:\n",
    "    print(\"C'mon, get real....\")\n",
    "    sys.exit(1)\n",
    "\n",
    "random.seed(procid)\n",
    "random_bound = nprocs*nprocs\n",
    "random_number = random.randint(1,random_bound)\n",
    "#print(\"[%d] random=%d\" % (procid,random_number),flush=True)\n",
    "\n",
    "# native mode send\n",
    "#print(\"a\",procid,random_number,flush=True)\n",
    "max_random = comm.allreduce(random_number,op=MPI.MAX) # max over all procid\n",
    "#print(\"b\",procid,max_random,flush=True)\n",
    "\n",
    "if procid==0:\n",
    "    print(\"Python native:\\n max=%d\" % max_random,flush=True)\n",
    "\n",
    "myrandom = np.empty(1,dtype=int) #unitilized\n",
    "myrandom[0] = random_number\n",
    "allrandom = np.empty(nprocs,dtype=int)\n",
    "\n",
    "# numpy mode send\n",
    "comm.Allreduce(myrandom,allrandom[:1],op=MPI.MAX)\n",
    "print(procid,allrandom,flush=True)\n",
    "\n",
    "if procid==0:\n",
    "    print(\"Python numpy:\\n max=%d\" % allrandom[0],flush=True)\n"
   ]
  },
  {
   "cell_type": "code",
   "execution_count": 2,
   "id": "880200ce",
   "metadata": {
    "scrolled": true
   },
   "outputs": [
    {
     "name": "stdout",
     "output_type": "stream",
     "text": [
      "Python native:\r\n",
      " max=7\r\n",
      "2 [                  7 4611686018427387889 4607182418800017417]\r\n",
      "0 [                  7 4611686018427387889 4607182418800017417]\r\n",
      "Python numpy:\r\n",
      " max=7\r\n",
      "1 [                  7 4611686018427387889 4607182418800017417]\r\n"
     ]
    }
   ],
   "source": [
    "# R U N\n",
    "! mpirun -n 3 python3 MPIexperimentUsingNumpy.py"
   ]
  },
  {
   "cell_type": "code",
   "execution_count": null,
   "id": "21b3fe96",
   "metadata": {},
   "outputs": [],
   "source": []
  }
 ],
 "metadata": {
  "kernelspec": {
   "display_name": "Python 3 (ipykernel)",
   "language": "python",
   "name": "python3"
  },
  "language_info": {
   "codemirror_mode": {
    "name": "ipython",
    "version": 3
   },
   "file_extension": ".py",
   "mimetype": "text/x-python",
   "name": "python",
   "nbconvert_exporter": "python",
   "pygments_lexer": "ipython3",
   "version": "3.9.7"
  }
 },
 "nbformat": 4,
 "nbformat_minor": 5
}
