{
 "cells": [
  {
   "cell_type": "code",
   "execution_count": 1,
   "id": "718bb917",
   "metadata": {},
   "outputs": [
    {
     "name": "stdout",
     "output_type": "stream",
     "text": [
      "Overwriting prova.py\n"
     ]
    }
   ],
   "source": [
    "%%writefile prova.py\n",
    "\n",
    "from mpi4py import MPI\n",
    "\n",
    "comm=MPI.COMM_WORLD\n",
    "size=comm.Get_size()\n",
    "rank=comm.Get_rank()\n",
    "\n",
    "print(\"Hello world from rank\", str(rank), str(size))"
   ]
  },
  {
   "cell_type": "code",
   "execution_count": 2,
   "id": "a1fa3fd4",
   "metadata": {},
   "outputs": [
    {
     "name": "stdout",
     "output_type": "stream",
     "text": [
      "Hello world from rank 0 3\r\n",
      "Hello world from rank 1 3\r\n",
      "Hello world from rank 2 3\r\n"
     ]
    }
   ],
   "source": [
    "! /usr/bin/mpirun -n 3 python3 prova.py"
   ]
  }
 ],
 "metadata": {
  "kernelspec": {
   "display_name": "Python 3 (ipykernel)",
   "language": "python",
   "name": "python3"
  },
  "language_info": {
   "codemirror_mode": {
    "name": "ipython",
    "version": 3
   },
   "file_extension": ".py",
   "mimetype": "text/x-python",
   "name": "python",
   "nbconvert_exporter": "python",
   "pygments_lexer": "ipython3",
   "version": "3.8.10"
  }
 },
 "nbformat": 4,
 "nbformat_minor": 5
}
